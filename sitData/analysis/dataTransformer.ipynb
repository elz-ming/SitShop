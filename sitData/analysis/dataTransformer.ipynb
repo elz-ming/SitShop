{
 "cells": [
  {
   "cell_type": "markdown",
   "id": "3e4b97fa-9789-408b-8d10-7dc156eec708",
   "metadata": {},
   "source": [
    "# #0 Table of Content\n",
    "1. Import packages and data"
   ]
  },
  {
   "cell_type": "markdown",
   "id": "7758adee-189e-4182-8dce-5ca3a9ebb371",
   "metadata": {},
   "source": [
    "# #1 Import Packages and data\n"
   ]
  },
  {
   "cell_type": "code",
   "execution_count": 130,
   "id": "b8dd8668-6b95-4d8d-a3ff-b0963185e709",
   "metadata": {},
   "outputs": [],
   "source": [
    "import pandas as pd\n",
    "import uuid"
   ]
  },
  {
   "cell_type": "code",
   "execution_count": 117,
   "id": "fdc55bbf-569d-4ee1-b3bf-a847ce63fc43",
   "metadata": {},
   "outputs": [],
   "source": [
    "product_table = pd.read_csv(\"../asset/product.csv\")\n",
    "review_table  = pd.read_csv(\"../asset/review.csv\")\n",
    "user_table    = pd.read_csv(\"../asset/user.csv\")"
   ]
  },
  {
   "cell_type": "markdown",
   "id": "aec2c394-cc1e-4c1b-b304-5b04a79911e3",
   "metadata": {},
   "source": [
    "# #2 Data Correction"
   ]
  },
  {
   "cell_type": "markdown",
   "id": "fdfc6b20-e0c0-40b2-a105-62fe669adcbb",
   "metadata": {},
   "source": [
    "## #2.1 Product Table\n",
    "1. Drop 'Unnamed: 0' column.\n",
    "2. Rename column names according to the Data Dictionary.\n",
    "3. Ensure each column has the correct data type according to the Data Dictionary."
   ]
  },
  {
   "cell_type": "code",
   "execution_count": 118,
   "id": "e3d4cb61-6446-4bf5-9718-320ab4635cf9",
   "metadata": {},
   "outputs": [
    {
     "name": "stdout",
     "output_type": "stream",
     "text": [
      "(75, 11)\n"
     ]
    },
    {
     "data": {
      "text/html": [
       "<div>\n",
       "<style scoped>\n",
       "    .dataframe tbody tr th:only-of-type {\n",
       "        vertical-align: middle;\n",
       "    }\n",
       "\n",
       "    .dataframe tbody tr th {\n",
       "        vertical-align: top;\n",
       "    }\n",
       "\n",
       "    .dataframe thead th {\n",
       "        text-align: right;\n",
       "    }\n",
       "</style>\n",
       "<table border=\"1\" class=\"dataframe\">\n",
       "  <thead>\n",
       "    <tr style=\"text-align: right;\">\n",
       "      <th></th>\n",
       "      <th>Unnamed: 0</th>\n",
       "      <th>Product ID:</th>\n",
       "      <th>Store Name</th>\n",
       "      <th>Product Name:</th>\n",
       "      <th>Product Price:</th>\n",
       "      <th>Total Number of Ratings:</th>\n",
       "      <th>Average Ratings:</th>\n",
       "      <th>Total Sold:</th>\n",
       "      <th>Total Fav:</th>\n",
       "      <th>Total Available:</th>\n",
       "      <th>Description:</th>\n",
       "    </tr>\n",
       "  </thead>\n",
       "  <tbody>\n",
       "    <tr>\n",
       "      <th>0</th>\n",
       "      <td>0</td>\n",
       "      <td>1ca606d9-0507-410b-a98c-a0d1745cc233</td>\n",
       "      <td>Skullcandy Singapore Official Store</td>\n",
       "      <td>Crusher ANC 2 Sensory Bass Wireless Headphones...</td>\n",
       "      <td>$350.00</td>\n",
       "      <td>3</td>\n",
       "      <td>5.0</td>\n",
       "      <td>7</td>\n",
       "      <td>Favorite (43)</td>\n",
       "      <td>2 pieces available</td>\n",
       "      <td>The next generation of our iconic Crusher head...</td>\n",
       "    </tr>\n",
       "    <tr>\n",
       "      <th>1</th>\n",
       "      <td>1</td>\n",
       "      <td>a45e9ef8-c2d2-4495-ac16-0b8c42a236ca</td>\n",
       "      <td>sprise_localstore.sg</td>\n",
       "      <td>SPRISE Premium Wireless Bluetooth Earphone Col...</td>\n",
       "      <td>$17.33</td>\n",
       "      <td>245</td>\n",
       "      <td>4.6</td>\n",
       "      <td>813</td>\n",
       "      <td>Favorite (1.1k)</td>\n",
       "      <td>2 pieces available</td>\n",
       "      <td>Hey~ Welcome to SPRISE Official Store! Please ...</td>\n",
       "    </tr>\n",
       "    <tr>\n",
       "      <th>2</th>\n",
       "      <td>2</td>\n",
       "      <td>cdba870d-eb79-4380-9de9-d6e61c895949</td>\n",
       "      <td>SHAVALIFE</td>\n",
       "      <td>USB PC Headset Conference Call with Noise Canc...</td>\n",
       "      <td>$18.50</td>\n",
       "      <td>1.6k</td>\n",
       "      <td>4.9</td>\n",
       "      <td>5.1k</td>\n",
       "      <td>Favorite (1.5k)</td>\n",
       "      <td>477 pieces available</td>\n",
       "      <td>Headset Key Features: ✅  High Quality Stereo S...</td>\n",
       "    </tr>\n",
       "  </tbody>\n",
       "</table>\n",
       "</div>"
      ],
      "text/plain": [
       "   Unnamed: 0                           Product ID:  \\\n",
       "0           0  1ca606d9-0507-410b-a98c-a0d1745cc233   \n",
       "1           1  a45e9ef8-c2d2-4495-ac16-0b8c42a236ca   \n",
       "2           2  cdba870d-eb79-4380-9de9-d6e61c895949   \n",
       "\n",
       "                            Store Name  \\\n",
       "0  Skullcandy Singapore Official Store   \n",
       "1                 sprise_localstore.sg   \n",
       "2                            SHAVALIFE   \n",
       "\n",
       "                                       Product Name: Product Price:  \\\n",
       "0  Crusher ANC 2 Sensory Bass Wireless Headphones...        $350.00   \n",
       "1  SPRISE Premium Wireless Bluetooth Earphone Col...         $17.33   \n",
       "2  USB PC Headset Conference Call with Noise Canc...         $18.50   \n",
       "\n",
       "  Total Number of Ratings:  Average Ratings: Total Sold:       Total Fav:  \\\n",
       "0                        3               5.0           7    Favorite (43)   \n",
       "1                      245               4.6         813  Favorite (1.1k)   \n",
       "2                     1.6k               4.9        5.1k  Favorite (1.5k)   \n",
       "\n",
       "       Total Available:                                       Description:  \n",
       "0    2 pieces available  The next generation of our iconic Crusher head...  \n",
       "1    2 pieces available  Hey~ Welcome to SPRISE Official Store! Please ...  \n",
       "2  477 pieces available  Headset Key Features: ✅  High Quality Stereo S...  "
      ]
     },
     "metadata": {},
     "output_type": "display_data"
    },
    {
     "name": "stdout",
     "output_type": "stream",
     "text": [
      "<class 'pandas.core.frame.DataFrame'>\n",
      "RangeIndex: 75 entries, 0 to 74\n",
      "Data columns (total 11 columns):\n",
      " #   Column                    Non-Null Count  Dtype  \n",
      "---  ------                    --------------  -----  \n",
      " 0   Unnamed: 0                75 non-null     int64  \n",
      " 1   Product ID:               75 non-null     object \n",
      " 2   Store Name                75 non-null     object \n",
      " 3   Product Name:             75 non-null     object \n",
      " 4   Product Price:            75 non-null     object \n",
      " 5   Total Number of Ratings:  75 non-null     object \n",
      " 6   Average Ratings:          75 non-null     float64\n",
      " 7   Total Sold:               75 non-null     object \n",
      " 8   Total Fav:                75 non-null     object \n",
      " 9   Total Available:          74 non-null     object \n",
      " 10  Description:              73 non-null     object \n",
      "dtypes: float64(1), int64(1), object(9)\n",
      "memory usage: 6.6+ KB\n",
      "None\n"
     ]
    }
   ],
   "source": [
    "# PRODUCT\n",
    "print(product_table.shape)\n",
    "display(product_table.head(3))\n",
    "print(product_table.info())"
   ]
  },
  {
   "cell_type": "code",
   "execution_count": 103,
   "id": "4808262c-8f96-4437-8316-1ec95557030c",
   "metadata": {},
   "outputs": [
    {
     "data": {
      "text/html": [
       "<div>\n",
       "<style scoped>\n",
       "    .dataframe tbody tr th:only-of-type {\n",
       "        vertical-align: middle;\n",
       "    }\n",
       "\n",
       "    .dataframe tbody tr th {\n",
       "        vertical-align: top;\n",
       "    }\n",
       "\n",
       "    .dataframe thead th {\n",
       "        text-align: right;\n",
       "    }\n",
       "</style>\n",
       "<table border=\"1\" class=\"dataframe\">\n",
       "  <thead>\n",
       "    <tr style=\"text-align: right;\">\n",
       "      <th></th>\n",
       "      <th>Product ID:</th>\n",
       "      <th>Store Name</th>\n",
       "      <th>Product Name:</th>\n",
       "      <th>Product Price:</th>\n",
       "      <th>Total Number of Ratings:</th>\n",
       "      <th>Average Ratings:</th>\n",
       "      <th>Total Sold:</th>\n",
       "      <th>Total Fav:</th>\n",
       "      <th>Total Available:</th>\n",
       "      <th>Description:</th>\n",
       "    </tr>\n",
       "  </thead>\n",
       "  <tbody>\n",
       "    <tr>\n",
       "      <th>0</th>\n",
       "      <td>1ca606d9-0507-410b-a98c-a0d1745cc233</td>\n",
       "      <td>Skullcandy Singapore Official Store</td>\n",
       "      <td>Crusher ANC 2 Sensory Bass Wireless Headphones...</td>\n",
       "      <td>$350.00</td>\n",
       "      <td>3</td>\n",
       "      <td>5.0</td>\n",
       "      <td>7</td>\n",
       "      <td>Favorite (43)</td>\n",
       "      <td>2 pieces available</td>\n",
       "      <td>The next generation of our iconic Crusher head...</td>\n",
       "    </tr>\n",
       "  </tbody>\n",
       "</table>\n",
       "</div>"
      ],
      "text/plain": [
       "                            Product ID:                           Store Name  \\\n",
       "0  1ca606d9-0507-410b-a98c-a0d1745cc233  Skullcandy Singapore Official Store   \n",
       "\n",
       "                                       Product Name: Product Price:  \\\n",
       "0  Crusher ANC 2 Sensory Bass Wireless Headphones...        $350.00   \n",
       "\n",
       "  Total Number of Ratings:  Average Ratings: Total Sold:     Total Fav:  \\\n",
       "0                        3               5.0           7  Favorite (43)   \n",
       "\n",
       "     Total Available:                                       Description:  \n",
       "0  2 pieces available  The next generation of our iconic Crusher head...  "
      ]
     },
     "metadata": {},
     "output_type": "display_data"
    }
   ],
   "source": [
    "if \"Unnamed: 0\" in product_table.columns:\n",
    "    product_table = product_table.drop(labels=\"Unnamed: 0\", axis=1)\n",
    "    \n",
    "display(product_table.head(1))"
   ]
  },
  {
   "cell_type": "code",
   "execution_count": 104,
   "id": "d6c5c6c0-1519-40a6-aaad-5151dea3a370",
   "metadata": {},
   "outputs": [
    {
     "data": {
      "text/html": [
       "<div>\n",
       "<style scoped>\n",
       "    .dataframe tbody tr th:only-of-type {\n",
       "        vertical-align: middle;\n",
       "    }\n",
       "\n",
       "    .dataframe tbody tr th {\n",
       "        vertical-align: top;\n",
       "    }\n",
       "\n",
       "    .dataframe thead th {\n",
       "        text-align: right;\n",
       "    }\n",
       "</style>\n",
       "<table border=\"1\" class=\"dataframe\">\n",
       "  <thead>\n",
       "    <tr style=\"text-align: right;\">\n",
       "      <th></th>\n",
       "      <th>Store Name</th>\n",
       "    </tr>\n",
       "  </thead>\n",
       "  <tbody>\n",
       "    <tr>\n",
       "      <th>0</th>\n",
       "      <td>Skullcandy Singapore Official Store</td>\n",
       "    </tr>\n",
       "  </tbody>\n",
       "</table>\n",
       "</div>"
      ],
      "text/plain": [
       "                            Store Name\n",
       "0  Skullcandy Singapore Official Store"
      ]
     },
     "metadata": {},
     "output_type": "display_data"
    },
    {
     "data": {
      "text/html": [
       "<div>\n",
       "<style scoped>\n",
       "    .dataframe tbody tr th:only-of-type {\n",
       "        vertical-align: middle;\n",
       "    }\n",
       "\n",
       "    .dataframe tbody tr th {\n",
       "        vertical-align: top;\n",
       "    }\n",
       "\n",
       "    .dataframe thead th {\n",
       "        text-align: right;\n",
       "    }\n",
       "</style>\n",
       "<table border=\"1\" class=\"dataframe\">\n",
       "  <thead>\n",
       "    <tr style=\"text-align: right;\">\n",
       "      <th></th>\n",
       "      <th>Product ID:</th>\n",
       "      <th>Product Name:</th>\n",
       "      <th>Product Price:</th>\n",
       "      <th>Total Number of Ratings:</th>\n",
       "      <th>Average Ratings:</th>\n",
       "      <th>Total Sold:</th>\n",
       "      <th>Total Fav:</th>\n",
       "      <th>Total Available:</th>\n",
       "      <th>Description:</th>\n",
       "    </tr>\n",
       "  </thead>\n",
       "  <tbody>\n",
       "    <tr>\n",
       "      <th>0</th>\n",
       "      <td>1ca606d9-0507-410b-a98c-a0d1745cc233</td>\n",
       "      <td>Crusher ANC 2 Sensory Bass Wireless Headphones...</td>\n",
       "      <td>$350.00</td>\n",
       "      <td>3</td>\n",
       "      <td>5.0</td>\n",
       "      <td>7</td>\n",
       "      <td>Favorite (43)</td>\n",
       "      <td>2 pieces available</td>\n",
       "      <td>The next generation of our iconic Crusher head...</td>\n",
       "    </tr>\n",
       "  </tbody>\n",
       "</table>\n",
       "</div>"
      ],
      "text/plain": [
       "                            Product ID:  \\\n",
       "0  1ca606d9-0507-410b-a98c-a0d1745cc233   \n",
       "\n",
       "                                       Product Name: Product Price:  \\\n",
       "0  Crusher ANC 2 Sensory Bass Wireless Headphones...        $350.00   \n",
       "\n",
       "  Total Number of Ratings:  Average Ratings: Total Sold:     Total Fav:  \\\n",
       "0                        3               5.0           7  Favorite (43)   \n",
       "\n",
       "     Total Available:                                       Description:  \n",
       "0  2 pieces available  The next generation of our iconic Crusher head...  "
      ]
     },
     "metadata": {},
     "output_type": "display_data"
    }
   ],
   "source": [
    "if \"Store Name\" in product_table.columns:\n",
    "    merchant_table = pd.DataFrame(product_table['Store Name'])\n",
    "    product_table  = product_table.drop(labels=\"Store Name\", axis=1)\n",
    "\n",
    "display(merchant_table.head(1))\n",
    "display(product_table.head(1))"
   ]
  },
  {
   "cell_type": "code",
   "execution_count": 105,
   "id": "74fb6127-6de5-4399-8948-727e8de52cc4",
   "metadata": {},
   "outputs": [
    {
     "data": {
      "text/html": [
       "<div>\n",
       "<style scoped>\n",
       "    .dataframe tbody tr th:only-of-type {\n",
       "        vertical-align: middle;\n",
       "    }\n",
       "\n",
       "    .dataframe tbody tr th {\n",
       "        vertical-align: top;\n",
       "    }\n",
       "\n",
       "    .dataframe thead th {\n",
       "        text-align: right;\n",
       "    }\n",
       "</style>\n",
       "<table border=\"1\" class=\"dataframe\">\n",
       "  <thead>\n",
       "    <tr style=\"text-align: right;\">\n",
       "      <th></th>\n",
       "      <th>product_id</th>\n",
       "      <th>name</th>\n",
       "      <th>price</th>\n",
       "      <th>total_rating</th>\n",
       "      <th>avg_rating</th>\n",
       "      <th>total_sold</th>\n",
       "      <th>fav_count</th>\n",
       "      <th>qty_avail</th>\n",
       "      <th>description</th>\n",
       "    </tr>\n",
       "  </thead>\n",
       "  <tbody>\n",
       "    <tr>\n",
       "      <th>0</th>\n",
       "      <td>1ca606d9-0507-410b-a98c-a0d1745cc233</td>\n",
       "      <td>Crusher ANC 2 Sensory Bass Wireless Headphones...</td>\n",
       "      <td>$350.00</td>\n",
       "      <td>3</td>\n",
       "      <td>5.0</td>\n",
       "      <td>7</td>\n",
       "      <td>Favorite (43)</td>\n",
       "      <td>2 pieces available</td>\n",
       "      <td>The next generation of our iconic Crusher head...</td>\n",
       "    </tr>\n",
       "  </tbody>\n",
       "</table>\n",
       "</div>"
      ],
      "text/plain": [
       "                             product_id  \\\n",
       "0  1ca606d9-0507-410b-a98c-a0d1745cc233   \n",
       "\n",
       "                                                name    price total_rating  \\\n",
       "0  Crusher ANC 2 Sensory Bass Wireless Headphones...  $350.00            3   \n",
       "\n",
       "   avg_rating total_sold      fav_count           qty_avail  \\\n",
       "0         5.0          7  Favorite (43)  2 pieces available   \n",
       "\n",
       "                                         description  \n",
       "0  The next generation of our iconic Crusher head...  "
      ]
     },
     "metadata": {},
     "output_type": "display_data"
    }
   ],
   "source": [
    "rename_dict = {\n",
    "    \"Product ID:\"              :\"product_id\",\n",
    "    \"Product Name:\"           :\"name\",\n",
    "    \"Product Price:\"          :\"price\",\n",
    "    \"Total Number of Ratings:\":\"total_rating\",\n",
    "    \"Average Ratings:\"        :\"avg_rating\",\n",
    "    \"Total Sold:\"             :\"total_sold\",\n",
    "    \"Total Fav:\"              :\"fav_count\",\n",
    "    \"Total Available:\"        :\"qty_avail\",\n",
    "    \"Description:\"            :\"description\"\n",
    "}\n",
    "\n",
    "product_table = product_table.rename(columns=rename_dict)\n",
    "display(product_table.head(1))"
   ]
  },
  {
   "cell_type": "code",
   "execution_count": 106,
   "id": "4ac7c1ed-9fbd-4994-b30d-0fb7803d5f62",
   "metadata": {},
   "outputs": [
    {
     "name": "stdout",
     "output_type": "stream",
     "text": [
      "float64\n"
     ]
    },
    {
     "data": {
      "text/html": [
       "<div>\n",
       "<style scoped>\n",
       "    .dataframe tbody tr th:only-of-type {\n",
       "        vertical-align: middle;\n",
       "    }\n",
       "\n",
       "    .dataframe tbody tr th {\n",
       "        vertical-align: top;\n",
       "    }\n",
       "\n",
       "    .dataframe thead th {\n",
       "        text-align: right;\n",
       "    }\n",
       "</style>\n",
       "<table border=\"1\" class=\"dataframe\">\n",
       "  <thead>\n",
       "    <tr style=\"text-align: right;\">\n",
       "      <th></th>\n",
       "      <th>price</th>\n",
       "    </tr>\n",
       "  </thead>\n",
       "  <tbody>\n",
       "    <tr>\n",
       "      <th>0</th>\n",
       "      <td>350.00</td>\n",
       "    </tr>\n",
       "    <tr>\n",
       "      <th>1</th>\n",
       "      <td>17.33</td>\n",
       "    </tr>\n",
       "    <tr>\n",
       "      <th>2</th>\n",
       "      <td>18.50</td>\n",
       "    </tr>\n",
       "    <tr>\n",
       "      <th>3</th>\n",
       "      <td>32.90</td>\n",
       "    </tr>\n",
       "    <tr>\n",
       "      <th>4</th>\n",
       "      <td>50.00</td>\n",
       "    </tr>\n",
       "  </tbody>\n",
       "</table>\n",
       "</div>"
      ],
      "text/plain": [
       "    price\n",
       "0  350.00\n",
       "1   17.33\n",
       "2   18.50\n",
       "3   32.90\n",
       "4   50.00"
      ]
     },
     "metadata": {},
     "output_type": "display_data"
    }
   ],
   "source": [
    "def product_price_fix(x):\n",
    "    if '-' in x:\n",
    "        x = x.split(' - ')[0]\n",
    "\n",
    "    x = x.strip()[1:]\n",
    "    \n",
    "    return float(x)\n",
    "    \n",
    "if product_table['price'].dtype != 'float64':\n",
    "    product_table['price'] = product_table['price'].apply(product_price_fix)\n",
    "\n",
    "print(product_table['price'].dtype)\n",
    "display(product_table[['price']].head(5))"
   ]
  },
  {
   "cell_type": "code",
   "execution_count": 107,
   "id": "2bcd1eae-44c3-4d94-a410-30eb825231c8",
   "metadata": {},
   "outputs": [
    {
     "name": "stdout",
     "output_type": "stream",
     "text": [
      "int64\n"
     ]
    },
    {
     "data": {
      "text/html": [
       "<div>\n",
       "<style scoped>\n",
       "    .dataframe tbody tr th:only-of-type {\n",
       "        vertical-align: middle;\n",
       "    }\n",
       "\n",
       "    .dataframe tbody tr th {\n",
       "        vertical-align: top;\n",
       "    }\n",
       "\n",
       "    .dataframe thead th {\n",
       "        text-align: right;\n",
       "    }\n",
       "</style>\n",
       "<table border=\"1\" class=\"dataframe\">\n",
       "  <thead>\n",
       "    <tr style=\"text-align: right;\">\n",
       "      <th></th>\n",
       "      <th>total_rating</th>\n",
       "    </tr>\n",
       "  </thead>\n",
       "  <tbody>\n",
       "    <tr>\n",
       "      <th>0</th>\n",
       "      <td>3</td>\n",
       "    </tr>\n",
       "    <tr>\n",
       "      <th>1</th>\n",
       "      <td>245</td>\n",
       "    </tr>\n",
       "    <tr>\n",
       "      <th>2</th>\n",
       "      <td>1600</td>\n",
       "    </tr>\n",
       "    <tr>\n",
       "      <th>3</th>\n",
       "      <td>210</td>\n",
       "    </tr>\n",
       "    <tr>\n",
       "      <th>4</th>\n",
       "      <td>100</td>\n",
       "    </tr>\n",
       "  </tbody>\n",
       "</table>\n",
       "</div>"
      ],
      "text/plain": [
       "   total_rating\n",
       "0             3\n",
       "1           245\n",
       "2          1600\n",
       "3           210\n",
       "4           100"
      ]
     },
     "metadata": {},
     "output_type": "display_data"
    }
   ],
   "source": [
    "def product_totalRating_fix(x):\n",
    "    if 'k' in x or 'K' in x:\n",
    "        return int(float(x[:-1]) * 1000)\n",
    "        \n",
    "    elif 'm' in x or 'M' in x:\n",
    "        return int(float(x[:-1]) * 1000000)\n",
    "\n",
    "    else:\n",
    "        return int(x)\n",
    "\n",
    "if product_table['total_rating'].dtype != 'int64':\n",
    "    product_table['total_rating'] = product_table['total_rating'].apply(product_totalRating_fix)\n",
    "\n",
    "print(product_table['total_rating'].dtype)\n",
    "display(product_table[['total_rating']].head(5))"
   ]
  },
  {
   "cell_type": "code",
   "execution_count": 108,
   "id": "9c7da2a4-cf23-48e0-bf88-a47914894a69",
   "metadata": {},
   "outputs": [
    {
     "name": "stdout",
     "output_type": "stream",
     "text": [
      "int64\n"
     ]
    },
    {
     "data": {
      "text/html": [
       "<div>\n",
       "<style scoped>\n",
       "    .dataframe tbody tr th:only-of-type {\n",
       "        vertical-align: middle;\n",
       "    }\n",
       "\n",
       "    .dataframe tbody tr th {\n",
       "        vertical-align: top;\n",
       "    }\n",
       "\n",
       "    .dataframe thead th {\n",
       "        text-align: right;\n",
       "    }\n",
       "</style>\n",
       "<table border=\"1\" class=\"dataframe\">\n",
       "  <thead>\n",
       "    <tr style=\"text-align: right;\">\n",
       "      <th></th>\n",
       "      <th>total_sold</th>\n",
       "    </tr>\n",
       "  </thead>\n",
       "  <tbody>\n",
       "    <tr>\n",
       "      <th>0</th>\n",
       "      <td>7</td>\n",
       "    </tr>\n",
       "    <tr>\n",
       "      <th>1</th>\n",
       "      <td>813</td>\n",
       "    </tr>\n",
       "    <tr>\n",
       "      <th>2</th>\n",
       "      <td>5100</td>\n",
       "    </tr>\n",
       "    <tr>\n",
       "      <th>3</th>\n",
       "      <td>576</td>\n",
       "    </tr>\n",
       "    <tr>\n",
       "      <th>4</th>\n",
       "      <td>249</td>\n",
       "    </tr>\n",
       "  </tbody>\n",
       "</table>\n",
       "</div>"
      ],
      "text/plain": [
       "   total_sold\n",
       "0           7\n",
       "1         813\n",
       "2        5100\n",
       "3         576\n",
       "4         249"
      ]
     },
     "metadata": {},
     "output_type": "display_data"
    }
   ],
   "source": [
    "def product_totalSold_fix(x):\n",
    "    if 'k' in x or 'K' in x:\n",
    "        return int(float(x[:-1]) * 1000)\n",
    "        \n",
    "    elif 'm' in x or 'M' in x:\n",
    "        return int(float(x[:-1]) * 1000000)\n",
    "\n",
    "    else:\n",
    "        return int(x)\n",
    "\n",
    "if product_table['total_sold'].dtype != 'int64':\n",
    "    product_table['total_sold'] = product_table['total_sold'].apply(product_totalSold_fix)\n",
    "\n",
    "print(product_table['total_sold'].dtype)\n",
    "display(product_table[['total_sold']].head(5))"
   ]
  },
  {
   "cell_type": "code",
   "execution_count": 109,
   "id": "e4cc323d-01ee-44b0-a71a-8783aabb39b7",
   "metadata": {},
   "outputs": [
    {
     "name": "stdout",
     "output_type": "stream",
     "text": [
      "int64\n"
     ]
    },
    {
     "data": {
      "text/html": [
       "<div>\n",
       "<style scoped>\n",
       "    .dataframe tbody tr th:only-of-type {\n",
       "        vertical-align: middle;\n",
       "    }\n",
       "\n",
       "    .dataframe tbody tr th {\n",
       "        vertical-align: top;\n",
       "    }\n",
       "\n",
       "    .dataframe thead th {\n",
       "        text-align: right;\n",
       "    }\n",
       "</style>\n",
       "<table border=\"1\" class=\"dataframe\">\n",
       "  <thead>\n",
       "    <tr style=\"text-align: right;\">\n",
       "      <th></th>\n",
       "      <th>fav_count</th>\n",
       "    </tr>\n",
       "  </thead>\n",
       "  <tbody>\n",
       "    <tr>\n",
       "      <th>0</th>\n",
       "      <td>43</td>\n",
       "    </tr>\n",
       "    <tr>\n",
       "      <th>1</th>\n",
       "      <td>1100</td>\n",
       "    </tr>\n",
       "    <tr>\n",
       "      <th>2</th>\n",
       "      <td>1500</td>\n",
       "    </tr>\n",
       "    <tr>\n",
       "      <th>3</th>\n",
       "      <td>460</td>\n",
       "    </tr>\n",
       "    <tr>\n",
       "      <th>4</th>\n",
       "      <td>405</td>\n",
       "    </tr>\n",
       "  </tbody>\n",
       "</table>\n",
       "</div>"
      ],
      "text/plain": [
       "   fav_count\n",
       "0         43\n",
       "1       1100\n",
       "2       1500\n",
       "3        460\n",
       "4        405"
      ]
     },
     "metadata": {},
     "output_type": "display_data"
    }
   ],
   "source": [
    "def product_favCount_fix(x):\n",
    "    x = x.split(' ')[-1]\n",
    "    x = x[1:-1]\n",
    "    \n",
    "    if 'k' in x or 'K' in x:\n",
    "        return int(float(x[:-1]) * 1000)\n",
    "        \n",
    "    elif 'm' in x or 'M' in x:\n",
    "        return int(float(x[:-1]) * 1000000)\n",
    "\n",
    "    else:\n",
    "        return int(x)\n",
    "\n",
    "if product_table['fav_count'].dtype != 'int64':\n",
    "    product_table['fav_count'] = product_table['fav_count'].apply(product_favCount_fix)\n",
    "\n",
    "print(product_table['fav_count'].dtype)\n",
    "display(product_table[['fav_count']].head(5))"
   ]
  },
  {
   "cell_type": "code",
   "execution_count": 110,
   "id": "5ee188d4-87d4-4e76-bba5-dfa2e1303d0d",
   "metadata": {},
   "outputs": [
    {
     "name": "stdout",
     "output_type": "stream",
     "text": [
      "int64\n"
     ]
    },
    {
     "data": {
      "text/html": [
       "<div>\n",
       "<style scoped>\n",
       "    .dataframe tbody tr th:only-of-type {\n",
       "        vertical-align: middle;\n",
       "    }\n",
       "\n",
       "    .dataframe tbody tr th {\n",
       "        vertical-align: top;\n",
       "    }\n",
       "\n",
       "    .dataframe thead th {\n",
       "        text-align: right;\n",
       "    }\n",
       "</style>\n",
       "<table border=\"1\" class=\"dataframe\">\n",
       "  <thead>\n",
       "    <tr style=\"text-align: right;\">\n",
       "      <th></th>\n",
       "      <th>qty_avail</th>\n",
       "    </tr>\n",
       "  </thead>\n",
       "  <tbody>\n",
       "    <tr>\n",
       "      <th>0</th>\n",
       "      <td>2</td>\n",
       "    </tr>\n",
       "    <tr>\n",
       "      <th>1</th>\n",
       "      <td>2</td>\n",
       "    </tr>\n",
       "    <tr>\n",
       "      <th>2</th>\n",
       "      <td>477</td>\n",
       "    </tr>\n",
       "    <tr>\n",
       "      <th>3</th>\n",
       "      <td>100</td>\n",
       "    </tr>\n",
       "    <tr>\n",
       "      <th>4</th>\n",
       "      <td>8</td>\n",
       "    </tr>\n",
       "  </tbody>\n",
       "</table>\n",
       "</div>"
      ],
      "text/plain": [
       "   qty_avail\n",
       "0          2\n",
       "1          2\n",
       "2        477\n",
       "3        100\n",
       "4          8"
      ]
     },
     "metadata": {},
     "output_type": "display_data"
    }
   ],
   "source": [
    "def product_qtyAvail_fix(x):\n",
    "    x = x.split(' ')[0]\n",
    "    return int(x)\n",
    "\n",
    "if product_table['qty_avail'].dtype != 'int64':\n",
    "    product_table['qty_avail'] = product_table['qty_avail'].fillna('0')\n",
    "    product_table['qty_avail'] = product_table['qty_avail'].apply(product_qtyAvail_fix)\n",
    "\n",
    "print(product_table['qty_avail'].dtype)\n",
    "display(product_table[['qty_avail']].head(5))"
   ]
  },
  {
   "cell_type": "code",
   "execution_count": 124,
   "id": "296e8b7f-c923-473e-9eee-fafc7bf4509e",
   "metadata": {},
   "outputs": [
    {
     "name": "stdout",
     "output_type": "stream",
     "text": [
      "(75, 11)\n"
     ]
    },
    {
     "data": {
      "text/html": [
       "<div>\n",
       "<style scoped>\n",
       "    .dataframe tbody tr th:only-of-type {\n",
       "        vertical-align: middle;\n",
       "    }\n",
       "\n",
       "    .dataframe tbody tr th {\n",
       "        vertical-align: top;\n",
       "    }\n",
       "\n",
       "    .dataframe thead th {\n",
       "        text-align: right;\n",
       "    }\n",
       "</style>\n",
       "<table border=\"1\" class=\"dataframe\">\n",
       "  <thead>\n",
       "    <tr style=\"text-align: right;\">\n",
       "      <th></th>\n",
       "      <th>Unnamed: 0</th>\n",
       "      <th>Product ID:</th>\n",
       "      <th>Store Name</th>\n",
       "      <th>Product Name:</th>\n",
       "      <th>Product Price:</th>\n",
       "      <th>Total Number of Ratings:</th>\n",
       "      <th>Average Ratings:</th>\n",
       "      <th>Total Sold:</th>\n",
       "      <th>Total Fav:</th>\n",
       "      <th>Total Available:</th>\n",
       "      <th>Description:</th>\n",
       "    </tr>\n",
       "  </thead>\n",
       "  <tbody>\n",
       "    <tr>\n",
       "      <th>0</th>\n",
       "      <td>0</td>\n",
       "      <td>1ca606d9-0507-410b-a98c-a0d1745cc233</td>\n",
       "      <td>Skullcandy Singapore Official Store</td>\n",
       "      <td>Crusher ANC 2 Sensory Bass Wireless Headphones...</td>\n",
       "      <td>$350.00</td>\n",
       "      <td>3</td>\n",
       "      <td>5.0</td>\n",
       "      <td>7</td>\n",
       "      <td>Favorite (43)</td>\n",
       "      <td>2 pieces available</td>\n",
       "      <td>The next generation of our iconic Crusher head...</td>\n",
       "    </tr>\n",
       "    <tr>\n",
       "      <th>1</th>\n",
       "      <td>1</td>\n",
       "      <td>a45e9ef8-c2d2-4495-ac16-0b8c42a236ca</td>\n",
       "      <td>sprise_localstore.sg</td>\n",
       "      <td>SPRISE Premium Wireless Bluetooth Earphone Col...</td>\n",
       "      <td>$17.33</td>\n",
       "      <td>245</td>\n",
       "      <td>4.6</td>\n",
       "      <td>813</td>\n",
       "      <td>Favorite (1.1k)</td>\n",
       "      <td>2 pieces available</td>\n",
       "      <td>Hey~ Welcome to SPRISE Official Store! Please ...</td>\n",
       "    </tr>\n",
       "    <tr>\n",
       "      <th>2</th>\n",
       "      <td>2</td>\n",
       "      <td>cdba870d-eb79-4380-9de9-d6e61c895949</td>\n",
       "      <td>SHAVALIFE</td>\n",
       "      <td>USB PC Headset Conference Call with Noise Canc...</td>\n",
       "      <td>$18.50</td>\n",
       "      <td>1.6k</td>\n",
       "      <td>4.9</td>\n",
       "      <td>5.1k</td>\n",
       "      <td>Favorite (1.5k)</td>\n",
       "      <td>477 pieces available</td>\n",
       "      <td>Headset Key Features: ✅  High Quality Stereo S...</td>\n",
       "    </tr>\n",
       "  </tbody>\n",
       "</table>\n",
       "</div>"
      ],
      "text/plain": [
       "   Unnamed: 0                           Product ID:  \\\n",
       "0           0  1ca606d9-0507-410b-a98c-a0d1745cc233   \n",
       "1           1  a45e9ef8-c2d2-4495-ac16-0b8c42a236ca   \n",
       "2           2  cdba870d-eb79-4380-9de9-d6e61c895949   \n",
       "\n",
       "                            Store Name  \\\n",
       "0  Skullcandy Singapore Official Store   \n",
       "1                 sprise_localstore.sg   \n",
       "2                            SHAVALIFE   \n",
       "\n",
       "                                       Product Name: Product Price:  \\\n",
       "0  Crusher ANC 2 Sensory Bass Wireless Headphones...        $350.00   \n",
       "1  SPRISE Premium Wireless Bluetooth Earphone Col...         $17.33   \n",
       "2  USB PC Headset Conference Call with Noise Canc...         $18.50   \n",
       "\n",
       "  Total Number of Ratings:  Average Ratings: Total Sold:       Total Fav:  \\\n",
       "0                        3               5.0           7    Favorite (43)   \n",
       "1                      245               4.6         813  Favorite (1.1k)   \n",
       "2                     1.6k               4.9        5.1k  Favorite (1.5k)   \n",
       "\n",
       "       Total Available:                                       Description:  \n",
       "0    2 pieces available  The next generation of our iconic Crusher head...  \n",
       "1    2 pieces available  Hey~ Welcome to SPRISE Official Store! Please ...  \n",
       "2  477 pieces available  Headset Key Features: ✅  High Quality Stereo S...  "
      ]
     },
     "metadata": {},
     "output_type": "display_data"
    },
    {
     "name": "stdout",
     "output_type": "stream",
     "text": [
      "<class 'pandas.core.frame.DataFrame'>\n",
      "RangeIndex: 75 entries, 0 to 74\n",
      "Data columns (total 11 columns):\n",
      " #   Column                    Non-Null Count  Dtype  \n",
      "---  ------                    --------------  -----  \n",
      " 0   Unnamed: 0                75 non-null     int64  \n",
      " 1   Product ID:               75 non-null     object \n",
      " 2   Store Name                75 non-null     object \n",
      " 3   Product Name:             75 non-null     object \n",
      " 4   Product Price:            75 non-null     object \n",
      " 5   Total Number of Ratings:  75 non-null     object \n",
      " 6   Average Ratings:          75 non-null     float64\n",
      " 7   Total Sold:               75 non-null     object \n",
      " 8   Total Fav:                75 non-null     object \n",
      " 9   Total Available:          74 non-null     object \n",
      " 10  Description:              73 non-null     object \n",
      "dtypes: float64(1), int64(1), object(9)\n",
      "memory usage: 6.6+ KB\n",
      "None\n"
     ]
    }
   ],
   "source": [
    "print(product_table.shape)\n",
    "display(product_table.head(3))\n",
    "print(product_table.info())"
   ]
  },
  {
   "cell_type": "code",
   "execution_count": 139,
   "id": "6cf48ed7-b3f9-48eb-8184-b82178b73e94",
   "metadata": {},
   "outputs": [],
   "source": [
    "product_table.to_csv(\"../asset/etlProduct.csv\", index=False)"
   ]
  },
  {
   "cell_type": "markdown",
   "id": "0deaab72-145d-4352-aff9-77a19f7db83a",
   "metadata": {},
   "source": [
    "## #2.2 Merchant Table\n",
    "1. Created from Product Table\n",
    "2. Drop duplicated merchants\n",
    "3. Assign unique id to each merchant"
   ]
  },
  {
   "cell_type": "code",
   "execution_count": 125,
   "id": "c5c3a4b8-ffcc-4f6e-a0a2-b8857032676b",
   "metadata": {},
   "outputs": [
    {
     "name": "stdout",
     "output_type": "stream",
     "text": [
      "(75, 1)\n"
     ]
    },
    {
     "data": {
      "text/html": [
       "<div>\n",
       "<style scoped>\n",
       "    .dataframe tbody tr th:only-of-type {\n",
       "        vertical-align: middle;\n",
       "    }\n",
       "\n",
       "    .dataframe tbody tr th {\n",
       "        vertical-align: top;\n",
       "    }\n",
       "\n",
       "    .dataframe thead th {\n",
       "        text-align: right;\n",
       "    }\n",
       "</style>\n",
       "<table border=\"1\" class=\"dataframe\">\n",
       "  <thead>\n",
       "    <tr style=\"text-align: right;\">\n",
       "      <th></th>\n",
       "      <th>Store Name</th>\n",
       "    </tr>\n",
       "  </thead>\n",
       "  <tbody>\n",
       "    <tr>\n",
       "      <th>0</th>\n",
       "      <td>Skullcandy Singapore Official Store</td>\n",
       "    </tr>\n",
       "    <tr>\n",
       "      <th>1</th>\n",
       "      <td>sprise_localstore.sg</td>\n",
       "    </tr>\n",
       "    <tr>\n",
       "      <th>2</th>\n",
       "      <td>SHAVALIFE</td>\n",
       "    </tr>\n",
       "  </tbody>\n",
       "</table>\n",
       "</div>"
      ],
      "text/plain": [
       "                            Store Name\n",
       "0  Skullcandy Singapore Official Store\n",
       "1                 sprise_localstore.sg\n",
       "2                            SHAVALIFE"
      ]
     },
     "metadata": {},
     "output_type": "display_data"
    },
    {
     "name": "stdout",
     "output_type": "stream",
     "text": [
      "<class 'pandas.core.frame.DataFrame'>\n",
      "RangeIndex: 75 entries, 0 to 74\n",
      "Data columns (total 1 columns):\n",
      " #   Column      Non-Null Count  Dtype \n",
      "---  ------      --------------  ----- \n",
      " 0   Store Name  75 non-null     object\n",
      "dtypes: object(1)\n",
      "memory usage: 732.0+ bytes\n",
      "None\n"
     ]
    }
   ],
   "source": [
    "print(merchant_table.shape)\n",
    "display(merchant_table.head(3))\n",
    "print(merchant_table.info())"
   ]
  },
  {
   "cell_type": "code",
   "execution_count": 137,
   "id": "331a5f1f-495a-4ed9-b5e4-561aa9c378fd",
   "metadata": {},
   "outputs": [
    {
     "data": {
      "text/html": [
       "<div>\n",
       "<style scoped>\n",
       "    .dataframe tbody tr th:only-of-type {\n",
       "        vertical-align: middle;\n",
       "    }\n",
       "\n",
       "    .dataframe tbody tr th {\n",
       "        vertical-align: top;\n",
       "    }\n",
       "\n",
       "    .dataframe thead th {\n",
       "        text-align: right;\n",
       "    }\n",
       "</style>\n",
       "<table border=\"1\" class=\"dataframe\">\n",
       "  <thead>\n",
       "    <tr style=\"text-align: right;\">\n",
       "      <th></th>\n",
       "      <th>merchant_id</th>\n",
       "      <th>name</th>\n",
       "    </tr>\n",
       "  </thead>\n",
       "  <tbody>\n",
       "    <tr>\n",
       "      <th>0</th>\n",
       "      <td>1ca5fde2-5f5d-4c9d-9c54-4cc487688774</td>\n",
       "      <td>Skullcandy Singapore Official Store</td>\n",
       "    </tr>\n",
       "    <tr>\n",
       "      <th>1</th>\n",
       "      <td>e101a9c3-90b7-4115-ba10-724730b52ee8</td>\n",
       "      <td>sprise_localstore.sg</td>\n",
       "    </tr>\n",
       "    <tr>\n",
       "      <th>2</th>\n",
       "      <td>9867ce78-67bd-4ea4-88b1-0311ed11cb46</td>\n",
       "      <td>SHAVALIFE</td>\n",
       "    </tr>\n",
       "  </tbody>\n",
       "</table>\n",
       "</div>"
      ],
      "text/plain": [
       "                            merchant_id                                 name\n",
       "0  1ca5fde2-5f5d-4c9d-9c54-4cc487688774  Skullcandy Singapore Official Store\n",
       "1  e101a9c3-90b7-4115-ba10-724730b52ee8                 sprise_localstore.sg\n",
       "2  9867ce78-67bd-4ea4-88b1-0311ed11cb46                            SHAVALIFE"
      ]
     },
     "metadata": {},
     "output_type": "display_data"
    }
   ],
   "source": [
    "merchant_table = merchant_table.drop_duplicates()\n",
    "merchant_table['merchant_id'] = [uuid.uuid4() for _ in range(len(merchant_table))]\n",
    "\n",
    "merchant_table = merchant_table.rename(columns={'Store Name':'name'})\n",
    "\n",
    "merchant_table = merchant_table[['merchant_id','name']]\n",
    "display(merchant_table.head(3))"
   ]
  },
  {
   "cell_type": "code",
   "execution_count": 140,
   "id": "5c0215c3-73be-4cb5-b6db-84135cd73187",
   "metadata": {},
   "outputs": [],
   "source": [
    "merchant_table.to_csv(\"../asset/etlMerchant.csv\", index=False)"
   ]
  },
  {
   "cell_type": "markdown",
   "id": "4a7a7ace-eab0-4bff-8018-d56175661464",
   "metadata": {},
   "source": [
    "## #2.3 Review Table (Brendan)\n",
    "1. Drop 'Unnamed: 0' column.\n",
    "2. Move the review_id to the first column.\n",
    "3. Rename column names according to the Data Dictionary.\n",
    "4. Ensure each column has the correct data type according to the Data Dictionary."
   ]
  },
  {
   "cell_type": "code",
   "execution_count": 113,
   "id": "3e4b7b26-a267-464a-8683-7a66cb78e809",
   "metadata": {},
   "outputs": [
    {
     "name": "stdout",
     "output_type": "stream",
     "text": [
      "(27692, 8)\n"
     ]
    },
    {
     "data": {
      "text/html": [
       "<div>\n",
       "<style scoped>\n",
       "    .dataframe tbody tr th:only-of-type {\n",
       "        vertical-align: middle;\n",
       "    }\n",
       "\n",
       "    .dataframe tbody tr th {\n",
       "        vertical-align: top;\n",
       "    }\n",
       "\n",
       "    .dataframe thead th {\n",
       "        text-align: right;\n",
       "    }\n",
       "</style>\n",
       "<table border=\"1\" class=\"dataframe\">\n",
       "  <thead>\n",
       "    <tr style=\"text-align: right;\">\n",
       "      <th></th>\n",
       "      <th>Unnamed: 0</th>\n",
       "      <th>Product ID</th>\n",
       "      <th>Product Name</th>\n",
       "      <th>Username</th>\n",
       "      <th>Rating</th>\n",
       "      <th>DateTime</th>\n",
       "      <th>Comment ID</th>\n",
       "      <th>Comments</th>\n",
       "    </tr>\n",
       "  </thead>\n",
       "  <tbody>\n",
       "    <tr>\n",
       "      <th>0</th>\n",
       "      <td>0</td>\n",
       "      <td>738907d7-39a7-403e-a8a6-1b0933baf48f</td>\n",
       "      <td>SPRISE Premium Wireless Bluetooth Earphone Col...</td>\n",
       "      <td>i*****b</td>\n",
       "      <td>5</td>\n",
       "      <td>2023-09-02 01:13</td>\n",
       "      <td>3aacfcce-8062-403d-b903-7edecee7cd1a</td>\n",
       "      <td>Best buy ever\\r\\nit looks great works great\\r\\...</td>\n",
       "    </tr>\n",
       "    <tr>\n",
       "      <th>1</th>\n",
       "      <td>1</td>\n",
       "      <td>738907d7-39a7-403e-a8a6-1b0933baf48f</td>\n",
       "      <td>SPRISE Premium Wireless Bluetooth Earphone Col...</td>\n",
       "      <td>jessylim70</td>\n",
       "      <td>5</td>\n",
       "      <td>2023-07-21 23:33</td>\n",
       "      <td>a34bed49-2914-4998-959f-0ba884aafcd5</td>\n",
       "      <td>Item received in good condition.\\r\\nBought dur...</td>\n",
       "    </tr>\n",
       "    <tr>\n",
       "      <th>2</th>\n",
       "      <td>2</td>\n",
       "      <td>738907d7-39a7-403e-a8a6-1b0933baf48f</td>\n",
       "      <td>SPRISE Premium Wireless Bluetooth Earphone Col...</td>\n",
       "      <td>s*****b</td>\n",
       "      <td>5</td>\n",
       "      <td>2023-05-08 19:37</td>\n",
       "      <td>53166827-9814-4518-aee9-06c23cf75b70</td>\n",
       "      <td>Value For Money: yes\\r\\nBest Feature(s): comfo...</td>\n",
       "    </tr>\n",
       "  </tbody>\n",
       "</table>\n",
       "</div>"
      ],
      "text/plain": [
       "   Unnamed: 0                            Product ID  \\\n",
       "0           0  738907d7-39a7-403e-a8a6-1b0933baf48f   \n",
       "1           1  738907d7-39a7-403e-a8a6-1b0933baf48f   \n",
       "2           2  738907d7-39a7-403e-a8a6-1b0933baf48f   \n",
       "\n",
       "                                        Product Name    Username  Rating  \\\n",
       "0  SPRISE Premium Wireless Bluetooth Earphone Col...     i*****b       5   \n",
       "1  SPRISE Premium Wireless Bluetooth Earphone Col...  jessylim70       5   \n",
       "2  SPRISE Premium Wireless Bluetooth Earphone Col...     s*****b       5   \n",
       "\n",
       "           DateTime                            Comment ID  \\\n",
       "0  2023-09-02 01:13  3aacfcce-8062-403d-b903-7edecee7cd1a   \n",
       "1  2023-07-21 23:33  a34bed49-2914-4998-959f-0ba884aafcd5   \n",
       "2  2023-05-08 19:37  53166827-9814-4518-aee9-06c23cf75b70   \n",
       "\n",
       "                                            Comments  \n",
       "0  Best buy ever\\r\\nit looks great works great\\r\\...  \n",
       "1  Item received in good condition.\\r\\nBought dur...  \n",
       "2  Value For Money: yes\\r\\nBest Feature(s): comfo...  "
      ]
     },
     "metadata": {},
     "output_type": "display_data"
    },
    {
     "name": "stdout",
     "output_type": "stream",
     "text": [
      "<class 'pandas.core.frame.DataFrame'>\n",
      "RangeIndex: 27692 entries, 0 to 27691\n",
      "Data columns (total 8 columns):\n",
      " #   Column        Non-Null Count  Dtype \n",
      "---  ------        --------------  ----- \n",
      " 0   Unnamed: 0    27692 non-null  int64 \n",
      " 1   Product ID    27692 non-null  object\n",
      " 2   Product Name  27692 non-null  object\n",
      " 3   Username      27692 non-null  object\n",
      " 4   Rating        27692 non-null  int64 \n",
      " 5   DateTime      27692 non-null  object\n",
      " 6   Comment ID    12760 non-null  object\n",
      " 7   Comments      12702 non-null  object\n",
      "dtypes: int64(2), object(6)\n",
      "memory usage: 1.7+ MB\n",
      "None\n"
     ]
    }
   ],
   "source": [
    "# REVIEW\n",
    "print(review_table.shape)\n",
    "display(review_table.head(3))\n",
    "print(review_table.info())"
   ]
  },
  {
   "cell_type": "code",
   "execution_count": null,
   "id": "b78076cb-2a30-4de0-9ed2-ddf7f19790a7",
   "metadata": {},
   "outputs": [],
   "source": []
  },
  {
   "cell_type": "code",
   "execution_count": null,
   "id": "2e43e4c9-b7bc-42f6-a31a-d487625934f4",
   "metadata": {},
   "outputs": [],
   "source": []
  },
  {
   "cell_type": "code",
   "execution_count": null,
   "id": "0545a72e-e909-4a3a-bdf2-7436b24bb66b",
   "metadata": {},
   "outputs": [],
   "source": []
  },
  {
   "cell_type": "code",
   "execution_count": null,
   "id": "b3594b5f-4239-4e8d-8c84-508f5550297c",
   "metadata": {},
   "outputs": [],
   "source": [
    "review_table.to_csv(\"../asset/etlReview.csv\", index=False)"
   ]
  },
  {
   "cell_type": "markdown",
   "id": "c2e91564-a9eb-427d-8b6a-edb0fa65732d",
   "metadata": {},
   "source": [
    "## #2.4 User Table (Brendan)\n",
    "1. Drop 'Unnamed: 0' column.\n",
    "2. Rename column names according to the Data Dictionary."
   ]
  },
  {
   "cell_type": "code",
   "execution_count": 115,
   "id": "24397de0-85a6-451b-a60f-8a537538571e",
   "metadata": {},
   "outputs": [
    {
     "name": "stdout",
     "output_type": "stream",
     "text": [
      "(19978, 7)\n"
     ]
    },
    {
     "data": {
      "text/html": [
       "<div>\n",
       "<style scoped>\n",
       "    .dataframe tbody tr th:only-of-type {\n",
       "        vertical-align: middle;\n",
       "    }\n",
       "\n",
       "    .dataframe tbody tr th {\n",
       "        vertical-align: top;\n",
       "    }\n",
       "\n",
       "    .dataframe thead th {\n",
       "        text-align: right;\n",
       "    }\n",
       "</style>\n",
       "<table border=\"1\" class=\"dataframe\">\n",
       "  <thead>\n",
       "    <tr style=\"text-align: right;\">\n",
       "      <th></th>\n",
       "      <th>Unnamed: 0</th>\n",
       "      <th>Username</th>\n",
       "      <th>Number of Comments</th>\n",
       "      <th>Comments</th>\n",
       "      <th>Number of Products Commented</th>\n",
       "      <th>Products Commented</th>\n",
       "      <th>Mean Rating</th>\n",
       "    </tr>\n",
       "  </thead>\n",
       "  <tbody>\n",
       "    <tr>\n",
       "      <th>0</th>\n",
       "      <td>0</td>\n",
       "      <td>.*****.</td>\n",
       "      <td>1</td>\n",
       "      <td>['Received but not tested if working or not']</td>\n",
       "      <td>1</td>\n",
       "      <td>{'c6248603-e4db-403f-a7d2-4139e8463d34': 1}</td>\n",
       "      <td>5.0</td>\n",
       "    </tr>\n",
       "    <tr>\n",
       "      <th>1</th>\n",
       "      <td>1</td>\n",
       "      <td>.*****9</td>\n",
       "      <td>1</td>\n",
       "      <td>['not the cheapest , included tool is nice but...</td>\n",
       "      <td>1</td>\n",
       "      <td>{'51f70b33-555b-4d40-ad73-a4f19446fc73': 1}</td>\n",
       "      <td>5.0</td>\n",
       "    </tr>\n",
       "    <tr>\n",
       "      <th>2</th>\n",
       "      <td>2</td>\n",
       "      <td>.*****f</td>\n",
       "      <td>0</td>\n",
       "      <td>[nan]</td>\n",
       "      <td>1</td>\n",
       "      <td>{'b17e829b-3318-49c4-8a94-edc482f7733c': 1}</td>\n",
       "      <td>5.0</td>\n",
       "    </tr>\n",
       "  </tbody>\n",
       "</table>\n",
       "</div>"
      ],
      "text/plain": [
       "   Unnamed: 0 Username  Number of Comments  \\\n",
       "0           0  .*****.                   1   \n",
       "1           1  .*****9                   1   \n",
       "2           2  .*****f                   0   \n",
       "\n",
       "                                            Comments  \\\n",
       "0      ['Received but not tested if working or not']   \n",
       "1  ['not the cheapest , included tool is nice but...   \n",
       "2                                              [nan]   \n",
       "\n",
       "   Number of Products Commented                           Products Commented  \\\n",
       "0                             1  {'c6248603-e4db-403f-a7d2-4139e8463d34': 1}   \n",
       "1                             1  {'51f70b33-555b-4d40-ad73-a4f19446fc73': 1}   \n",
       "2                             1  {'b17e829b-3318-49c4-8a94-edc482f7733c': 1}   \n",
       "\n",
       "   Mean Rating  \n",
       "0          5.0  \n",
       "1          5.0  \n",
       "2          5.0  "
      ]
     },
     "metadata": {},
     "output_type": "display_data"
    },
    {
     "name": "stdout",
     "output_type": "stream",
     "text": [
      "<class 'pandas.core.frame.DataFrame'>\n",
      "RangeIndex: 19978 entries, 0 to 19977\n",
      "Data columns (total 7 columns):\n",
      " #   Column                        Non-Null Count  Dtype  \n",
      "---  ------                        --------------  -----  \n",
      " 0   Unnamed: 0                    19978 non-null  int64  \n",
      " 1   Username                      19978 non-null  object \n",
      " 2   Number of Comments            19978 non-null  int64  \n",
      " 3   Comments                      19978 non-null  object \n",
      " 4   Number of Products Commented  19978 non-null  int64  \n",
      " 5   Products Commented            19978 non-null  object \n",
      " 6   Mean Rating                   19978 non-null  float64\n",
      "dtypes: float64(1), int64(3), object(3)\n",
      "memory usage: 1.1+ MB\n",
      "None\n"
     ]
    }
   ],
   "source": [
    "# USER\n",
    "print(user_table.shape)\n",
    "display(user_table.head(3))\n",
    "print(user_table.info())"
   ]
  },
  {
   "cell_type": "code",
   "execution_count": null,
   "id": "a36c8011-8eb5-4ac3-99a7-bd10e6c5af56",
   "metadata": {},
   "outputs": [],
   "source": []
  },
  {
   "cell_type": "code",
   "execution_count": null,
   "id": "b182d8a4-e247-4ad0-94d9-cf787b6b9faf",
   "metadata": {},
   "outputs": [],
   "source": []
  },
  {
   "cell_type": "code",
   "execution_count": null,
   "id": "edf03cd2-73cb-471d-92e0-17e59dc349a9",
   "metadata": {},
   "outputs": [],
   "source": []
  },
  {
   "cell_type": "code",
   "execution_count": null,
   "id": "2ed19d9e-8e7e-462c-bbf6-d547644ce96b",
   "metadata": {},
   "outputs": [],
   "source": [
    "user_table.to_csv(\"../asset/etlUser.csv\", index=False)"
   ]
  }
 ],
 "metadata": {
  "kernelspec": {
   "display_name": "Python 3 (ipykernel)",
   "language": "python",
   "name": "python3"
  },
  "language_info": {
   "codemirror_mode": {
    "name": "ipython",
    "version": 3
   },
   "file_extension": ".py",
   "mimetype": "text/x-python",
   "name": "python",
   "nbconvert_exporter": "python",
   "pygments_lexer": "ipython3",
   "version": "3.11.6"
  }
 },
 "nbformat": 4,
 "nbformat_minor": 5
}
