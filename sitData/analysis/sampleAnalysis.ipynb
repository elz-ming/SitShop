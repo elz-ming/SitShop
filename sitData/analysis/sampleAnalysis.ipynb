{
 "cells": [
  {
   "cell_type": "markdown",
   "id": "4cb42c10-90d0-4096-8a74-dbf7218f7666",
   "metadata": {},
   "source": [
    "# Getting Started\n",
    "Data Team, @rachel and @brendan, both of you will be working on Jupyter Notebook very frequently for the coming one week. In consideration of time constraints, I'll be treating Jupyter Notebooks as ACTUAL NOTEBOOKs for us to communicate our findings with each other.\n",
    "\n",
    "## Some commands and functions of Jupyter Notebook\n",
    "1. click on the square bracket [ ] on the left side of the following cell.\n",
    "2. make sure you're selecting the cell as a whole and not the typing space of the cell.\n",
    "3. press M to convert it into a Markdown Cell : to fill in text that are informative and non-executable python codes.\n",
    "4. press Y to conver it into a Code Cell : to fill in executable python codes, will have error if there's syntax issues.\n",
    "5. press Shift + Enter to execute the cell as either Markdown or Code.\n",
    "6. press Esc to cancel select on typing space."
   ]
  },
  {
   "cell_type": "code",
   "execution_count": null,
   "id": "86b4e024-6f37-415d-9bc2-6d8669533272",
   "metadata": {},
   "outputs": [],
   "source": [
    "Turn this into a Markdown cell.\n",
    "Run shift enter."
   ]
  },
  {
   "cell_type": "code",
   "execution_count": null,
   "id": "4c77bc4d-e673-47a6-939a-7006edeb559a",
   "metadata": {},
   "outputs": [],
   "source": [
    "print(\"Keep this as a Code cell.\")\n",
    "print(\"Run shift enter.\")"
   ]
  },
  {
   "cell_type": "markdown",
   "id": "96b6ef15-c1a1-41c0-b309-1b4ef243c2f8",
   "metadata": {},
   "source": [
    "## Some additional commands\n",
    "1. to perform cell functions, first press Esc to cancel select on typing space.\n",
    "2. press A to insert a cell on top of current cell.\n",
    "3. press B to insert a cell below current cell.\n",
    "4. press D D to delete current cell. (Yes, double D)\n",
    "5. press Z to undo a certain cell action."
   ]
  },
  {
   "cell_type": "markdown",
   "id": "51abd6fa-323d-493d-b985-b0168d9d0dab",
   "metadata": {},
   "source": [
    "# #0 Table of Content (time to get serious)\n",
    "1. import packages and data\n",
    "2. data preprocessing & feature engineering\n",
    "3. data analysis & data visualization\n",
    "4. conclusion"
   ]
  },
  {
   "cell_type": "markdown",
   "id": "339736b0-28fa-4318-b28b-d64b7dad1d9b",
   "metadata": {},
   "source": [
    "# #1 Import Packages and data\n",
    "1. No brainer, we will be working pandas mainly. Import it as \"pd\" so we will be using the \"pd\" object very frequently below. Can be any other terms but best practice is just to call it \"pd\"\n",
    "2. pd.read_csv is to read the csv file and convert it into a \"pd\" object or what we call \"dataframe\" object. You can see the full name of the object by typing type(table). It will show \"pandas.core.frame.DataFrame\"\n",
    "3. for sanity check, here are some python codes you can run after importing .csv files :\n",
    "    - table.head() : if empty parenthesis, returns first 5 rows of data. if .head(3), returns the first 3.\n",
    "    - table.tail() : if empty parenthesis, returns first 5 rows of data. if .tail(3), returns the first 3.\n",
    "    - table.describe() : describes each numeric column of the table.\n",
    "    - *Note : you can use the display(table) instead of print(table) to show a table in a more beautiful manner\n",
    "    - *Note : table = DataFrame in this context"
   ]
  },
  {
   "cell_type": "code",
   "execution_count": 2,
   "id": "c8ebb47e-7b55-43db-9b4b-febbe442ba31",
   "metadata": {},
   "outputs": [],
   "source": [
    "import pandas as pd"
   ]
  },
  {
   "cell_type": "code",
   "execution_count": 6,
   "id": "ff5005da-3f82-4d53-ad26-5b4653004167",
   "metadata": {},
   "outputs": [],
   "source": [
    "product_table = pd.read_csv(\"../asset/product.csv\")\n",
    "review_table  = pd.read_csv(\"../asset/review.csv\")\n",
    "user_table    = pd.read_csv(\"../asset/user.csv\")"
   ]
  },
  {
   "cell_type": "code",
   "execution_count": 8,
   "id": "db17573b-f844-442c-8299-967fd75dbe3b",
   "metadata": {},
   "outputs": [
    {
     "data": {
      "text/plain": [
       "pandas.core.frame.DataFrame"
      ]
     },
     "execution_count": 8,
     "metadata": {},
     "output_type": "execute_result"
    }
   ],
   "source": [
    "type(product_table)"
   ]
  },
  {
   "cell_type": "code",
   "execution_count": 9,
   "id": "e56ad174-a3cd-47d3-bf16-1894524619a2",
   "metadata": {},
   "outputs": [
    {
     "data": {
      "text/html": [
       "<div>\n",
       "<style scoped>\n",
       "    .dataframe tbody tr th:only-of-type {\n",
       "        vertical-align: middle;\n",
       "    }\n",
       "\n",
       "    .dataframe tbody tr th {\n",
       "        vertical-align: top;\n",
       "    }\n",
       "\n",
       "    .dataframe thead th {\n",
       "        text-align: right;\n",
       "    }\n",
       "</style>\n",
       "<table border=\"1\" class=\"dataframe\">\n",
       "  <thead>\n",
       "    <tr style=\"text-align: right;\">\n",
       "      <th></th>\n",
       "      <th>Unnamed: 0</th>\n",
       "      <th>Product ID:</th>\n",
       "      <th>Store Name</th>\n",
       "      <th>Product Name:</th>\n",
       "      <th>Product Price:</th>\n",
       "      <th>Total Number of Ratings:</th>\n",
       "      <th>Average Ratings:</th>\n",
       "      <th>Total Sold:</th>\n",
       "      <th>Total Fav:</th>\n",
       "      <th>Total Available:</th>\n",
       "      <th>Description:</th>\n",
       "    </tr>\n",
       "  </thead>\n",
       "  <tbody>\n",
       "    <tr>\n",
       "      <th>0</th>\n",
       "      <td>0</td>\n",
       "      <td>1ca606d9-0507-410b-a98c-a0d1745cc233</td>\n",
       "      <td>Skullcandy Singapore Official Store</td>\n",
       "      <td>Crusher ANC 2 Sensory Bass Wireless Headphones...</td>\n",
       "      <td>$350.00</td>\n",
       "      <td>3</td>\n",
       "      <td>5.0</td>\n",
       "      <td>7</td>\n",
       "      <td>Favorite (43)</td>\n",
       "      <td>2 pieces available</td>\n",
       "      <td>The next generation of our iconic Crusher head...</td>\n",
       "    </tr>\n",
       "    <tr>\n",
       "      <th>1</th>\n",
       "      <td>1</td>\n",
       "      <td>a45e9ef8-c2d2-4495-ac16-0b8c42a236ca</td>\n",
       "      <td>sprise_localstore.sg</td>\n",
       "      <td>SPRISE Premium Wireless Bluetooth Earphone Col...</td>\n",
       "      <td>$17.33</td>\n",
       "      <td>245</td>\n",
       "      <td>4.6</td>\n",
       "      <td>813</td>\n",
       "      <td>Favorite (1.1k)</td>\n",
       "      <td>2 pieces available</td>\n",
       "      <td>Hey~ Welcome to SPRISE Official Store! Please ...</td>\n",
       "    </tr>\n",
       "    <tr>\n",
       "      <th>2</th>\n",
       "      <td>2</td>\n",
       "      <td>cdba870d-eb79-4380-9de9-d6e61c895949</td>\n",
       "      <td>SHAVALIFE</td>\n",
       "      <td>USB PC Headset Conference Call with Noise Canc...</td>\n",
       "      <td>$18.50</td>\n",
       "      <td>1.6k</td>\n",
       "      <td>4.9</td>\n",
       "      <td>5.1k</td>\n",
       "      <td>Favorite (1.5k)</td>\n",
       "      <td>477 pieces available</td>\n",
       "      <td>Headset Key Features: ✅  High Quality Stereo S...</td>\n",
       "    </tr>\n",
       "    <tr>\n",
       "      <th>3</th>\n",
       "      <td>3</td>\n",
       "      <td>d2030c84-9633-4362-84ba-e24ee955c571</td>\n",
       "      <td>Online Singapore</td>\n",
       "      <td>Online Singapore - Sony MDR-ZX110AP Headphones...</td>\n",
       "      <td>$32.90</td>\n",
       "      <td>210</td>\n",
       "      <td>4.8</td>\n",
       "      <td>576</td>\n",
       "      <td>Favorite (460)</td>\n",
       "      <td>100 pieces available</td>\n",
       "      <td>* Local Authorized Dealer\\r\\n* One Year Local ...</td>\n",
       "    </tr>\n",
       "    <tr>\n",
       "      <th>4</th>\n",
       "      <td>4</td>\n",
       "      <td>ea192f7b-9cb2-4a7a-b6dc-0b4c1d268e35</td>\n",
       "      <td>Skullcandy Singapore Official Store</td>\n",
       "      <td>Skullcandy Cassette Wireless On-Ear Headphones</td>\n",
       "      <td>$50.00</td>\n",
       "      <td>100</td>\n",
       "      <td>4.9</td>\n",
       "      <td>249</td>\n",
       "      <td>Favorite (405)</td>\n",
       "      <td>8 pieces available</td>\n",
       "      <td>Bluetooth® Wireless Technology\\r\\nUp to 22 Hou...</td>\n",
       "    </tr>\n",
       "  </tbody>\n",
       "</table>\n",
       "</div>"
      ],
      "text/plain": [
       "   Unnamed: 0                           Product ID:  \\\n",
       "0           0  1ca606d9-0507-410b-a98c-a0d1745cc233   \n",
       "1           1  a45e9ef8-c2d2-4495-ac16-0b8c42a236ca   \n",
       "2           2  cdba870d-eb79-4380-9de9-d6e61c895949   \n",
       "3           3  d2030c84-9633-4362-84ba-e24ee955c571   \n",
       "4           4  ea192f7b-9cb2-4a7a-b6dc-0b4c1d268e35   \n",
       "\n",
       "                            Store Name  \\\n",
       "0  Skullcandy Singapore Official Store   \n",
       "1                 sprise_localstore.sg   \n",
       "2                            SHAVALIFE   \n",
       "3                     Online Singapore   \n",
       "4  Skullcandy Singapore Official Store   \n",
       "\n",
       "                                       Product Name: Product Price:  \\\n",
       "0  Crusher ANC 2 Sensory Bass Wireless Headphones...        $350.00   \n",
       "1  SPRISE Premium Wireless Bluetooth Earphone Col...         $17.33   \n",
       "2  USB PC Headset Conference Call with Noise Canc...         $18.50   \n",
       "3  Online Singapore - Sony MDR-ZX110AP Headphones...         $32.90   \n",
       "4     Skullcandy Cassette Wireless On-Ear Headphones         $50.00   \n",
       "\n",
       "  Total Number of Ratings:  Average Ratings: Total Sold:       Total Fav:  \\\n",
       "0                        3               5.0           7    Favorite (43)   \n",
       "1                      245               4.6         813  Favorite (1.1k)   \n",
       "2                     1.6k               4.9        5.1k  Favorite (1.5k)   \n",
       "3                      210               4.8         576   Favorite (460)   \n",
       "4                      100               4.9         249   Favorite (405)   \n",
       "\n",
       "       Total Available:                                       Description:  \n",
       "0    2 pieces available  The next generation of our iconic Crusher head...  \n",
       "1    2 pieces available  Hey~ Welcome to SPRISE Official Store! Please ...  \n",
       "2  477 pieces available  Headset Key Features: ✅  High Quality Stereo S...  \n",
       "3  100 pieces available  * Local Authorized Dealer\\r\\n* One Year Local ...  \n",
       "4    8 pieces available  Bluetooth® Wireless Technology\\r\\nUp to 22 Hou...  "
      ]
     },
     "execution_count": 9,
     "metadata": {},
     "output_type": "execute_result"
    }
   ],
   "source": [
    "product_table.head()"
   ]
  },
  {
   "cell_type": "code",
   "execution_count": 12,
   "id": "cd26c976-474e-4769-88e4-896d99b117ad",
   "metadata": {},
   "outputs": [
    {
     "data": {
      "text/html": [
       "<div>\n",
       "<style scoped>\n",
       "    .dataframe tbody tr th:only-of-type {\n",
       "        vertical-align: middle;\n",
       "    }\n",
       "\n",
       "    .dataframe tbody tr th {\n",
       "        vertical-align: top;\n",
       "    }\n",
       "\n",
       "    .dataframe thead th {\n",
       "        text-align: right;\n",
       "    }\n",
       "</style>\n",
       "<table border=\"1\" class=\"dataframe\">\n",
       "  <thead>\n",
       "    <tr style=\"text-align: right;\">\n",
       "      <th></th>\n",
       "      <th>Unnamed: 0</th>\n",
       "      <th>Product ID</th>\n",
       "      <th>Product Name</th>\n",
       "      <th>Username</th>\n",
       "      <th>Rating</th>\n",
       "      <th>DateTime</th>\n",
       "      <th>Comment ID</th>\n",
       "      <th>Comments</th>\n",
       "    </tr>\n",
       "  </thead>\n",
       "  <tbody>\n",
       "    <tr>\n",
       "      <th>27689</th>\n",
       "      <td>27689</td>\n",
       "      <td>bf476063-e681-4700-b2a1-ad8a416a7cb8</td>\n",
       "      <td>Y08 Macaron Wireless Foldable Headphones with ...</td>\n",
       "      <td>8w_1tppv5h</td>\n",
       "      <td>5</td>\n",
       "      <td>2023-07-12 03:18</td>\n",
       "      <td>NaN</td>\n",
       "      <td>NaN</td>\n",
       "    </tr>\n",
       "    <tr>\n",
       "      <th>27690</th>\n",
       "      <td>27690</td>\n",
       "      <td>bf476063-e681-4700-b2a1-ad8a416a7cb8</td>\n",
       "      <td>Y08 Macaron Wireless Foldable Headphones with ...</td>\n",
       "      <td>anagrazielaferreirafaria</td>\n",
       "      <td>5</td>\n",
       "      <td>2023-07-12 03:18</td>\n",
       "      <td>NaN</td>\n",
       "      <td>NaN</td>\n",
       "    </tr>\n",
       "    <tr>\n",
       "      <th>27691</th>\n",
       "      <td>27691</td>\n",
       "      <td>bf476063-e681-4700-b2a1-ad8a416a7cb8</td>\n",
       "      <td>Y08 Macaron Wireless Foldable Headphones with ...</td>\n",
       "      <td>g*****o</td>\n",
       "      <td>5</td>\n",
       "      <td>2023-07-12 02:32</td>\n",
       "      <td>NaN</td>\n",
       "      <td>NaN</td>\n",
       "    </tr>\n",
       "  </tbody>\n",
       "</table>\n",
       "</div>"
      ],
      "text/plain": [
       "       Unnamed: 0                            Product ID  \\\n",
       "27689       27689  bf476063-e681-4700-b2a1-ad8a416a7cb8   \n",
       "27690       27690  bf476063-e681-4700-b2a1-ad8a416a7cb8   \n",
       "27691       27691  bf476063-e681-4700-b2a1-ad8a416a7cb8   \n",
       "\n",
       "                                            Product Name  \\\n",
       "27689  Y08 Macaron Wireless Foldable Headphones with ...   \n",
       "27690  Y08 Macaron Wireless Foldable Headphones with ...   \n",
       "27691  Y08 Macaron Wireless Foldable Headphones with ...   \n",
       "\n",
       "                       Username  Rating          DateTime Comment ID Comments  \n",
       "27689                8w_1tppv5h       5  2023-07-12 03:18        NaN      NaN  \n",
       "27690  anagrazielaferreirafaria       5  2023-07-12 03:18        NaN      NaN  \n",
       "27691                   g*****o       5  2023-07-12 02:32        NaN      NaN  "
      ]
     },
     "metadata": {},
     "output_type": "display_data"
    }
   ],
   "source": [
    "display(review_table.tail(3))"
   ]
  },
  {
   "cell_type": "code",
   "execution_count": 13,
   "id": "0700cb78-497e-4f79-8953-0c45e2ffd9ca",
   "metadata": {},
   "outputs": [
    {
     "data": {
      "text/html": [
       "<div>\n",
       "<style scoped>\n",
       "    .dataframe tbody tr th:only-of-type {\n",
       "        vertical-align: middle;\n",
       "    }\n",
       "\n",
       "    .dataframe tbody tr th {\n",
       "        vertical-align: top;\n",
       "    }\n",
       "\n",
       "    .dataframe thead th {\n",
       "        text-align: right;\n",
       "    }\n",
       "</style>\n",
       "<table border=\"1\" class=\"dataframe\">\n",
       "  <thead>\n",
       "    <tr style=\"text-align: right;\">\n",
       "      <th></th>\n",
       "      <th>Unnamed: 0</th>\n",
       "      <th>Number of Comments</th>\n",
       "      <th>Number of Products Commented</th>\n",
       "      <th>Mean Rating</th>\n",
       "    </tr>\n",
       "  </thead>\n",
       "  <tbody>\n",
       "    <tr>\n",
       "      <th>count</th>\n",
       "      <td>19978.000000</td>\n",
       "      <td>19978.000000</td>\n",
       "      <td>19978.000000</td>\n",
       "      <td>19978.000000</td>\n",
       "    </tr>\n",
       "    <tr>\n",
       "      <th>mean</th>\n",
       "      <td>9988.500000</td>\n",
       "      <td>0.638703</td>\n",
       "      <td>1.236310</td>\n",
       "      <td>4.782306</td>\n",
       "    </tr>\n",
       "    <tr>\n",
       "      <th>std</th>\n",
       "      <td>5767.296175</td>\n",
       "      <td>1.725756</td>\n",
       "      <td>1.338929</td>\n",
       "      <td>0.660200</td>\n",
       "    </tr>\n",
       "    <tr>\n",
       "      <th>min</th>\n",
       "      <td>0.000000</td>\n",
       "      <td>0.000000</td>\n",
       "      <td>1.000000</td>\n",
       "      <td>1.000000</td>\n",
       "    </tr>\n",
       "    <tr>\n",
       "      <th>25%</th>\n",
       "      <td>4994.250000</td>\n",
       "      <td>0.000000</td>\n",
       "      <td>1.000000</td>\n",
       "      <td>5.000000</td>\n",
       "    </tr>\n",
       "    <tr>\n",
       "      <th>50%</th>\n",
       "      <td>9988.500000</td>\n",
       "      <td>0.000000</td>\n",
       "      <td>1.000000</td>\n",
       "      <td>5.000000</td>\n",
       "    </tr>\n",
       "    <tr>\n",
       "      <th>75%</th>\n",
       "      <td>14982.750000</td>\n",
       "      <td>1.000000</td>\n",
       "      <td>1.000000</td>\n",
       "      <td>5.000000</td>\n",
       "    </tr>\n",
       "    <tr>\n",
       "      <th>max</th>\n",
       "      <td>19977.000000</td>\n",
       "      <td>116.000000</td>\n",
       "      <td>36.000000</td>\n",
       "      <td>5.000000</td>\n",
       "    </tr>\n",
       "  </tbody>\n",
       "</table>\n",
       "</div>"
      ],
      "text/plain": [
       "         Unnamed: 0  Number of Comments  Number of Products Commented  \\\n",
       "count  19978.000000        19978.000000                  19978.000000   \n",
       "mean    9988.500000            0.638703                      1.236310   \n",
       "std     5767.296175            1.725756                      1.338929   \n",
       "min        0.000000            0.000000                      1.000000   \n",
       "25%     4994.250000            0.000000                      1.000000   \n",
       "50%     9988.500000            0.000000                      1.000000   \n",
       "75%    14982.750000            1.000000                      1.000000   \n",
       "max    19977.000000          116.000000                     36.000000   \n",
       "\n",
       "        Mean Rating  \n",
       "count  19978.000000  \n",
       "mean       4.782306  \n",
       "std        0.660200  \n",
       "min        1.000000  \n",
       "25%        5.000000  \n",
       "50%        5.000000  \n",
       "75%        5.000000  \n",
       "max        5.000000  "
      ]
     },
     "execution_count": 13,
     "metadata": {},
     "output_type": "execute_result"
    }
   ],
   "source": [
    "user_table.describe()"
   ]
  },
  {
   "cell_type": "markdown",
   "id": "c8fc01cd-ef4f-4bb5-ab63-53345fdf331d",
   "metadata": {},
   "source": [
    "# #2 Data Preprocessing & Feature Engineering"
   ]
  },
  {
   "cell_type": "code",
   "execution_count": 15,
   "id": "c2289ad1-52b9-4b39-924d-a84bcc47676a",
   "metadata": {},
   "outputs": [
    {
     "name": "stdout",
     "output_type": "stream",
     "text": [
      "some code that I haven't figured out yet\n"
     ]
    }
   ],
   "source": [
    "print(\"some code that I haven't figured out yet\")"
   ]
  },
  {
   "cell_type": "markdown",
   "id": "ca115b2d-8fc9-427d-8deb-78c95884dea3",
   "metadata": {},
   "source": [
    "# #3 Data Analysis & Data Visualization"
   ]
  },
  {
   "cell_type": "code",
   "execution_count": 16,
   "id": "aa7db773-cdd0-4313-afef-99c8036e88e9",
   "metadata": {},
   "outputs": [
    {
     "name": "stdout",
     "output_type": "stream",
     "text": [
      "some code that I haven't figured out yet\n"
     ]
    }
   ],
   "source": [
    "print(\"some code that I haven't figured out yet\")"
   ]
  },
  {
   "cell_type": "markdown",
   "id": "edfda26c-e2a8-4388-9de5-457f96a9665b",
   "metadata": {},
   "source": [
    "# #4 Conclusion\n",
    "Write some conclusion in Markdown here"
   ]
  },
  {
   "cell_type": "code",
   "execution_count": null,
   "id": "48ba326d-77f0-42a2-a1c6-60d2b7e26e5c",
   "metadata": {},
   "outputs": [],
   "source": []
  }
 ],
 "metadata": {
  "kernelspec": {
   "display_name": "Python 3 (ipykernel)",
   "language": "python",
   "name": "python3"
  },
  "language_info": {
   "codemirror_mode": {
    "name": "ipython",
    "version": 3
   },
   "file_extension": ".py",
   "mimetype": "text/x-python",
   "name": "python",
   "nbconvert_exporter": "python",
   "pygments_lexer": "ipython3",
   "version": "3.11.6"
  }
 },
 "nbformat": 4,
 "nbformat_minor": 5
}
