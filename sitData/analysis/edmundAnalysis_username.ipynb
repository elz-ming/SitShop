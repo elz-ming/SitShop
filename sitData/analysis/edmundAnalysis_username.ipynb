{
 "cells": [
  {
   "cell_type": "markdown",
   "id": "8e096284-75e7-4f6b-99fc-14cd5545c3b7",
   "metadata": {
    "jp-MarkdownHeadingCollapsed": true
   },
   "source": [
    "# #0 Table of Content\n",
    "1. Import packages and data\n",
    "2. Understanding user rating\n",
    "3. "
   ]
  },
  {
   "cell_type": "markdown",
   "id": "e559b576-17f2-4a25-a122-1bd35517bc25",
   "metadata": {},
   "source": [
    "# #1 Import packages, data and creating functions"
   ]
  },
  {
   "cell_type": "code",
   "execution_count": 1,
   "id": "a2e989de-53a0-4054-838e-2583abaa1241",
   "metadata": {},
   "outputs": [],
   "source": [
    "import pandas as pd\n",
    "import seaborn as sns\n",
    "import matplotlib.pyplot as plt"
   ]
  },
  {
   "cell_type": "code",
   "execution_count": 3,
   "id": "5d681392-9d8f-497d-90d5-c02e022e3705",
   "metadata": {},
   "outputs": [],
   "source": [
    "merchant_table = pd.read_csv(\"../asset/etlMerchant.csv\")\n",
    "product_table  = pd.read_csv(\"../asset/etlProduct.csv\")\n",
    "user_table     = pd.read_csv(\"../asset/etlUser.csv\")\n",
    "review_table   = pd.read_csv(\"../asset/etlReview.csv\")"
   ]
  },
  {
   "cell_type": "code",
   "execution_count": null,
   "id": "5ead487a-d215-4e12-b772-6042c478b1c5",
   "metadata": {},
   "outputs": [],
   "source": []
  },
  {
   "cell_type": "code",
   "execution_count": null,
   "id": "aab093eb-483b-4cce-b6b8-b003aba186e9",
   "metadata": {},
   "outputs": [],
   "source": []
  }
 ],
 "metadata": {
  "kernelspec": {
   "display_name": "Python 3 (ipykernel)",
   "language": "python",
   "name": "python3"
  },
  "language_info": {
   "codemirror_mode": {
    "name": "ipython",
    "version": 3
   },
   "file_extension": ".py",
   "mimetype": "text/x-python",
   "name": "python",
   "nbconvert_exporter": "python",
   "pygments_lexer": "ipython3",
   "version": "3.11.6"
  }
 },
 "nbformat": 4,
 "nbformat_minor": 5
}
