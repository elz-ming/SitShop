{
 "cells": [
  {
   "cell_type": "code",
   "execution_count": 1,
   "id": "1f91da68-a424-46df-add2-cdf96623a65e",
   "metadata": {},
   "outputs": [],
   "source": [
    "from selenium import webdriver\n",
    "from selenium.common import NoSuchElementException\n",
    "from selenium.webdriver.chrome.service import Service\n",
    "from selenium.webdriver.common.keys import Keys\n",
    "from selenium.webdriver.common.by import By\n",
    "from selenium.webdriver.support.ui import WebDriverWait\n",
    "from selenium.webdriver.support import expected_conditions as EC\n",
    "from selenium.webdriver.common.action_chains import ActionChains\n",
    "import uuid\n",
    "import re\n",
    "import unidecode\n",
    "\n",
    "\n",
    "from bs4 import BeautifulSoup\n",
    "\n",
    "import pandas as pd\n",
    "import time"
   ]
  },
  {
   "cell_type": "code",
   "execution_count": 2,
   "id": "b8178f77-52e6-497c-83e0-5b50834bb817",
   "metadata": {},
   "outputs": [],
   "source": [
    "s = Service(\"C:/Users/brene/OneDrive/Documents/SIT/INF1002_Programming_Fundamentals/SIT_Python_Project/chromedriver.exe\")\n",
    "driver = webdriver.Chrome(service = s)"
   ]
  },
  {
   "cell_type": "code",
   "execution_count": 3,
   "id": "c9d15b19-8c55-4af1-a475-29f8781a7e93",
   "metadata": {},
   "outputs": [],
   "source": [
    "driver.get(\"https://shopee.sg/?gclid=CjwKCAjwpJWoBhA8EiwAHZFzfn_IyU3EGeoQMEYwUHODFf3CMANLDcBO4cxVtR5Acs6Ofg0CADQ6tBoCUhcQAvD_BwE\")\n",
    "time.sleep(2)"
   ]
  },
  {
   "cell_type": "code",
   "execution_count": 4,
   "id": "08000190-4ed8-4300-81c8-e5069b97bcdb",
   "metadata": {},
   "outputs": [],
   "source": [
    "close_btn = driver.execute_script('return document.querySelector(\"#main shopee-banner-popup-stateful\").shadowRoot.querySelector(\"div.home-popup__close-area div.shopee-popup__close-btn\")')\n",
    "close_btn.click()"
   ]
  },
  {
   "cell_type": "code",
   "execution_count": 5,
   "id": "290bae91-2f5c-4edf-b3a9-e7114873c529",
   "metadata": {},
   "outputs": [],
   "source": [
    "searchbar = driver.find_element(By.CLASS_NAME, \"shopee-searchbar-input__input\")\n",
    "searchbar.send_keys(\"Headphone\")\n",
    "searchbar.send_keys(Keys.RETURN)\n",
    "time.sleep(1)"
   ]
  },
  {
   "cell_type": "code",
   "execution_count": 6,
   "id": "ae19abf9-b2b9-4b9b-ae30-f79d7449b64c",
   "metadata": {},
   "outputs": [],
   "source": [
    "# Search_Button = driver.find_element(By.XPATH, \"/html/body/div[1]/div/header/div[2]/div/div[1]/div[1]/button\")\n",
    "# Search_Button.click()\n",
    "# time.sleep(1)"
   ]
  },
  {
   "cell_type": "code",
   "execution_count": 7,
   "id": "56a3acc1-ca98-4d61-a58c-ab391473e4be",
   "metadata": {},
   "outputs": [],
   "source": [
    "Username_Bar = driver.find_element(By.XPATH, \"/html/body/div[1]/div/div[2]/div/div/div/div[2]/form/div/div[2]/div[2]/div[1]/input\")\n",
    "Password_Bar = driver.find_element(By.XPATH, \"/html/body/div[1]/div/div[2]/div/div/div/div[2]/form/div/div[2]/div[3]/div[1]/input\")"
   ]
  },
  {
   "cell_type": "code",
   "execution_count": 8,
   "id": "aabd61d5-a6ff-4499-94be-d9b471f71eb1",
   "metadata": {},
   "outputs": [],
   "source": [
    "Username_Bar.send_keys(\"brened406\")\n",
    "Password_Bar.send_keys(\"DyKdMne7\")\n",
    "time.sleep(1)"
   ]
  },
  {
   "cell_type": "code",
   "execution_count": 9,
   "id": "8d940305-59d0-42e0-91f6-208fff0fa1da",
   "metadata": {},
   "outputs": [],
   "source": [
    "Login_Button = driver.find_element(By.XPATH, \"/html/body/div[1]/div/div[2]/div/div/div/div[2]/form/div/div[2]/button\")\n",
    "Login_Button.click()\n",
    "time.sleep(1)"
   ]
  },
  {
   "cell_type": "code",
   "execution_count": 10,
   "id": "5eaff14b-b15b-4e0f-a8bd-f963954ad4df",
   "metadata": {},
   "outputs": [
    {
     "ename": "TimeoutException",
     "evalue": "Message: \nStacktrace:\n\tGetHandleVerifier [0x00007FF6396278A2+54818]\n\t(No symbol) [0x00007FF639596AD2]\n\t(No symbol) [0x00007FF63944DA3B]\n\t(No symbol) [0x00007FF63948E4FC]\n\t(No symbol) [0x00007FF63948E67C]\n\t(No symbol) [0x00007FF6394C9627]\n\t(No symbol) [0x00007FF6394AEAEF]\n\t(No symbol) [0x00007FF6394C75A2]\n\t(No symbol) [0x00007FF6394AE883]\n\t(No symbol) [0x00007FF639483691]\n\t(No symbol) [0x00007FF6394848D4]\n\tGetHandleVerifier [0x00007FF63998B9A2+3610402]\n\tGetHandleVerifier [0x00007FF6399E1870+3962352]\n\tGetHandleVerifier [0x00007FF6399D9D5F+3930847]\n\tGetHandleVerifier [0x00007FF6396C3656+693206]\n\t(No symbol) [0x00007FF6395A1638]\n\t(No symbol) [0x00007FF63959D944]\n\t(No symbol) [0x00007FF63959DA72]\n\t(No symbol) [0x00007FF63958E123]\n\tBaseThreadInitThunk [0x00007FFCE5DB257D+29]\n\tRtlUserThreadStart [0x00007FFCE790AA68+40]\n",
     "output_type": "error",
     "traceback": [
      "\u001b[1;31m---------------------------------------------------------------------------\u001b[0m",
      "\u001b[1;31mTimeoutException\u001b[0m                          Traceback (most recent call last)",
      "Cell \u001b[1;32mIn[10], line 1\u001b[0m\n\u001b[1;32m----> 1\u001b[0m \u001b[43mWebDriverWait\u001b[49m\u001b[43m(\u001b[49m\u001b[43mdriver\u001b[49m\u001b[43m,\u001b[49m\u001b[43m \u001b[49m\u001b[38;5;241;43m3\u001b[39;49m\u001b[43m)\u001b[49m\u001b[38;5;241;43m.\u001b[39;49m\u001b[43muntil\u001b[49m\u001b[43m(\u001b[49m\n\u001b[0;32m      2\u001b[0m \u001b[43m                \u001b[49m\u001b[43mEC\u001b[49m\u001b[38;5;241;43m.\u001b[39;49m\u001b[43mpresence_of_element_located\u001b[49m\u001b[43m(\u001b[49m\u001b[43m(\u001b[49m\u001b[43mBy\u001b[49m\u001b[38;5;241;43m.\u001b[39;49m\u001b[43mCLASS_NAME\u001b[49m\u001b[43m,\u001b[49m\u001b[43m \u001b[49m\u001b[38;5;124;43m\"\u001b[39;49m\u001b[38;5;124;43mshopee-search-item-result__item\u001b[39;49m\u001b[38;5;124;43m\"\u001b[39;49m\u001b[43m)\u001b[49m\u001b[43m)\u001b[49m\n\u001b[0;32m      3\u001b[0m \u001b[43m            \u001b[49m\u001b[43m)\u001b[49m\n",
      "File \u001b[1;32m~\\AppData\\Local\\Programs\\Python\\Python311\\Lib\\site-packages\\selenium\\webdriver\\support\\wait.py:95\u001b[0m, in \u001b[0;36mWebDriverWait.until\u001b[1;34m(self, method, message)\u001b[0m\n\u001b[0;32m     93\u001b[0m     \u001b[38;5;28;01mif\u001b[39;00m time\u001b[38;5;241m.\u001b[39mmonotonic() \u001b[38;5;241m>\u001b[39m end_time:\n\u001b[0;32m     94\u001b[0m         \u001b[38;5;28;01mbreak\u001b[39;00m\n\u001b[1;32m---> 95\u001b[0m \u001b[38;5;28;01mraise\u001b[39;00m TimeoutException(message, screen, stacktrace)\n",
      "\u001b[1;31mTimeoutException\u001b[0m: Message: \nStacktrace:\n\tGetHandleVerifier [0x00007FF6396278A2+54818]\n\t(No symbol) [0x00007FF639596AD2]\n\t(No symbol) [0x00007FF63944DA3B]\n\t(No symbol) [0x00007FF63948E4FC]\n\t(No symbol) [0x00007FF63948E67C]\n\t(No symbol) [0x00007FF6394C9627]\n\t(No symbol) [0x00007FF6394AEAEF]\n\t(No symbol) [0x00007FF6394C75A2]\n\t(No symbol) [0x00007FF6394AE883]\n\t(No symbol) [0x00007FF639483691]\n\t(No symbol) [0x00007FF6394848D4]\n\tGetHandleVerifier [0x00007FF63998B9A2+3610402]\n\tGetHandleVerifier [0x00007FF6399E1870+3962352]\n\tGetHandleVerifier [0x00007FF6399D9D5F+3930847]\n\tGetHandleVerifier [0x00007FF6396C3656+693206]\n\t(No symbol) [0x00007FF6395A1638]\n\t(No symbol) [0x00007FF63959D944]\n\t(No symbol) [0x00007FF63959DA72]\n\t(No symbol) [0x00007FF63958E123]\n\tBaseThreadInitThunk [0x00007FFCE5DB257D+29]\n\tRtlUserThreadStart [0x00007FFCE790AA68+40]\n"
     ]
    }
   ],
   "source": [
    "WebDriverWait(driver, 3).until(\n",
    "                EC.presence_of_element_located((By.CLASS_NAME, \"shopee-search-item-result__item\"))\n",
    "            )"
   ]
  },
  {
   "cell_type": "code",
   "execution_count": null,
   "id": "fe11170c-9d63-4b10-bcc7-7677e77f2c6e",
   "metadata": {},
   "outputs": [],
   "source": [
    "###WORKING DO DOT DELETE###\n",
    "\n",
    "# list_of_products = driver.find_elements(By.CLASS_NAME, \"shopee-search-item-result__item\")\n",
    "\n",
    "# object_list = []\n",
    "# #len(list_of_products)\n",
    "# for num in range(3):\n",
    "#     try:\n",
    "#         object = {}\n",
    "        \n",
    "#         # Click on the product to open its details\n",
    "#         actions = ActionChains(driver)\n",
    "#         time.sleep(1)\n",
    "#         product = driver.find_elements(By.CLASS_NAME, \"shopee-search-item-result__item\")[num]\n",
    "#         # try:\n",
    "#         #     prefCheck = soup.find(\"div\", class_=\"ICOSOm\").text\n",
    "#         # except:\n",
    "#         #     None\n",
    "#         actions.move_to_element(product).perform()\n",
    "#         actions.click(product).perform()\n",
    "#         time.sleep(1)\n",
    "        \n",
    "#         # Letting source page load\n",
    "#         page_source = driver.page_source\n",
    "#         soup = BeautifulSoup(page_source, \"html.parser\")\n",
    "#         time.sleep(3)\n",
    "        \n",
    "#         #Extract product elements\n",
    "#         storeName = soup.find(\"div\", class_=\"VlDReK\").text\n",
    "#         productName = soup.find(\"div\", class_=\"_44qnta\").find(\"span\").text\n",
    "#         productPrice = soup.find(\"div\", class_=\"pqTWkA\").text\n",
    "#         numofRatings = driver.find_element(By.CSS_SELECTOR, \"div[class='_1k47d8']\")\n",
    "#         numofRatings = numofRatings.text\n",
    "#         totalStars = soup.find(\"div\", class_=\"_1k47d8\").text\n",
    "        \n",
    "#         try:\n",
    "#             totalSold = soup.find(\"div\", class_=\"e9sAa2\").text\n",
    "#         except:\n",
    "#             None\n",
    "            \n",
    "        \n",
    "\n",
    "       \n",
    "#         # if prefCheck == \"Preferred\":\n",
    "#         #     pref = \"Preferred\"\n",
    "#         # else:\n",
    "#         #     pref = \"Nil\"\n",
    "        \n",
    "            \n",
    "#         totalFav = soup.select_one(\".flex.items-center._3jkKrB .Ne7dEf\")\n",
    "#         fav = totalFav.text\n",
    "        \n",
    "        \n",
    "        \n",
    "#         # totalAvail = soup.select_one(\".flex.items-center._6lioXX .flex items-center\")\n",
    "#         # Avail = totalAvail.text\n",
    "\n",
    "#         # shipsFrom = soup.find(\"label\", class_=\"zquA4o eqeCX7\")[6]\n",
    "\n",
    "#         # # Check if the label element was found and its next sibling is a <div>\n",
    "#         # if shipsFrom and shipsFrom.find_next_sibling(\"div\"):\n",
    "#         # # Extract the text from the next <div> element\n",
    "#         #     ships_from = shipsFrom.find_next_sibling(\"div\").text\n",
    "#         # print(ships_from)\n",
    "\n",
    "\n",
    "#         object[\"Store Name\"] = storeName\n",
    "#         object[\"Product Name:\"] = productName\n",
    "#         object[\"Product Price:\"] = productPrice\n",
    "#         object[\"Total Number of Ratings:\"] = numofRatings\n",
    "#         object[\"Total Stars(Rating):\"] = totalStars\n",
    "#         object[\"Total Sold:\"] = totalSold\n",
    "#         object[\"Total Fav:\"] = fav\n",
    "#         # object[\"Preferred:\"] = pref\n",
    "        \n",
    "\n",
    "#         print(object)\n",
    "#         print(\"\")\n",
    "        \n",
    "#         object_list.append(object)\n",
    "    \n",
    "#         #Go back to the search results\n",
    "#         driver.back()\n",
    "#     except:\n",
    "#         driver.back()\n",
    "\n"
   ]
  },
  {
   "cell_type": "code",
   "execution_count": 22,
   "id": "c1841f05-49b4-4abd-aa16-def169fbc295",
   "metadata": {},
   "outputs": [
    {
     "name": "stdout",
     "output_type": "stream",
     "text": [
      "1\n",
      "{'Store Name': 'Skullcandy Singapore Official Store', 'Product Name:': 'Crusher ANC 2 Sensory Bass Wireless Headphones with Active Noise Cancelling', 'Product Price:': '$350.00', 'Total Number of Ratings:': '3', 'Average Ratings:': '5.0', 'Total Sold:': '7', 'Total Fav:': 'Favorite (43)', 'Total Available:': '2 pieces available', 'Description:': 'The next generation of our iconic Crusher headphone is here. Crusher ANC 2 is loaded with everything you love about the Crusher ANC plus Skull-iQ Smart Feature Technology, Voice Control, Multipoint Pairing and much, MUCH more. '}\n",
      "\n",
      "2\n",
      "{'Store Name': 'sprise_localstore.sg', 'Product Name:': 'SPRISE Premium Wireless Bluetooth Earphone Colorful Headphone Foldable Headset Gaming With Mic 蓝牙耳机', 'Product Price:': '$17.33', 'Total Number of Ratings:': '245', 'Average Ratings:': '4.6', 'Total Sold:': '813', 'Total Fav:': 'Favorite (1.1k)', 'Total Available:': '2 pieces available', 'Description:': \"Hey~\\xa0Welcome\\xa0to\\xa0SPRISE\\xa0Official\\xa0Store!\\xa0Please\\xa0read\\xa0the\\xa0product\\xa0description\\xa0clearly,\\xa0choose\\xa0u\\xa0need.\\xa0All\\xa0items\\xa0are\\xa0in\\xa0stocks!\\xa0Please\\xa0enjoy~\\xa0 \\n ❥Specifications: 1.\\xa0Name:\\xa0SPRISE\\xa0DR58 2.\\xa0Color:\\xa0Dolomite White/Athens Black/Tender Pink 3.\\xa0Weights:\\xa0275g 4.\\xa0Bluetooth\\xa0Version:\\xa05.0 5.\\xa0Communication\\xa0distance:\\xa010m 6.\\xa0Talking\\xa0time:\\xa012 hours 7.\\xa0Charging\\xa0time:\\xa03-4\\xa0hours 8.\\xa0Suitable\\xa0for:\\xa0Android,\\xa0iOS,\\xa0macOS\\xa0and\\xa0windows\\xa0system \\n ❥Features\\xa0: 1. HIFI advanced sound quality brings a live music experience like in person; with skin-friendly breathable earmuffs, comfortable to wear without pressure on the ears. 2. Foldable design, easy to carry; preferred metal material, resistant to pressure and violence. 3. The Bluetooth headset plays games with ultra-low latency, waterproof and sweatproof, with an audio cable to bring you the ultimate good life experience. \\n ❥Product\\xa0List： 1*\\xa0Bluetooth\\xa0headphone\\xa0 1*\\xa0Type-C Charging\\xa0cable\\xa0 1* Audio cable 1*\\xa0User\\xa0Manual \\n Note: Don't use more than 1.5 A charging head charge \\n \\n #earphone\\xa0#headphone\\xa0#earphone\\xa0gaming\\xa0#headset\\xa0#headphone\\xa0bluetooth\\xa0#gaming\\xa0headset\\xa0#headphones\\xa0#headphone\\xa0gaming\\xa0wireless\\xa0#bluetooth\\xa0headset\\xa0#wireless\\xa0headphones\\xa0#cute\\xa0headphone\\xa0#headsets\\xa0#bluetooth\\xa0headphone\\xa0with\\xa0mic\\xa0#over\\xa0ear\\xa0headphones\\xa0#wired\\xa0headphone\\xa0#studio\\xa0headphone\\xa0#headphone\\xa0bass\"}\n",
      "\n",
      "3\n",
      "{'Store Name': 'SHAVALIFE', 'Product Name:': 'USB PC Headset Conference Call with Noise Cancelling Wired Headphones', 'Product Price:': '$18.50', 'Total Number of Ratings:': '1.6k', 'Average Ratings:': '4.9', 'Total Sold:': '5.1k', 'Total Fav:': 'Favorite (1.5k)', 'Total Available:': '477 pieces available', 'Description:': 'Headset Key Features: ✅  High Quality Stereo Sound (even for Audio Playback) ✅  Noise Cancelling Microphone Perfect for Conference Call ✅  Plug and Play. Easy to Setup ✅  Volume Control Access Board ✅  One-Touch Microphone Mute/ Unmute ✅  One-Touch Headset Mute/ Unmute ✅  300° Rotatable Microphone Arm ✅  Soft & Comfortable Ear Cushions ✅  Adjustable Size for Headband  ✅  System Compatibility with Windows Vista, Windows 7, Windows 8, Windows 10, Android, IOS and other systems ✅  Universal USB interface  ✅  Also Supports 3.5mm Audio jack ✅  Unique 2-in-1 Detachable Plug  ✅  Lightweight & Portable \\n Supporting Systems:    💽 Windows  \\uf8ff Mac OS \\n Applications: 👪 Video Conference 🎙️ Recording 📹 Live Streaming 🕹️ Gaming 👮 Video Security 📚 Distance/Online Learning 🗣️ Call Centre 🎧 Audio Headphone \\n'}\n",
      "\n"
     ]
    },
    {
     "name": "stderr",
     "output_type": "stream",
     "text": [
      "\n",
      "KeyboardInterrupt\n",
      "\n"
     ]
    }
   ],
   "source": [
    "object_list = []\n",
    "count = 0\n",
    "for number in range(0,3):\n",
    "    url = f\"https://shopee.sg/search?is_from_login=true&keyword=headphones&page={number}\"\n",
    "    driver.get(url)\n",
    "    time.sleep(5)\n",
    "    page_source = driver.page_source  \n",
    "    soup = BeautifulSoup(page_source)\n",
    "    list_of_products = driver.find_elements(By.CLASS_NAME, \"shopee-search-item-result__item\")\n",
    "\n",
    "    for num in range(5):\n",
    "        try:\n",
    "            object = {}\n",
    "            \n",
    "            # Click on the product to open its details\n",
    "            actions = ActionChains(driver)\n",
    "            time.sleep(1)\n",
    "            product = driver.find_elements(By.CLASS_NAME, \"shopee-search-item-result__item\")[num]\n",
    "            # try:\n",
    "            #     prefCheck = soup.find(\"div\", class_=\"ICOSOm\").text\n",
    "            # except:\n",
    "            #     None\n",
    "            actions.move_to_element(product).perform()\n",
    "            actions.click(product).perform()\n",
    "            time.sleep(1)\n",
    "            \n",
    "            # Letting source page load\n",
    "            page_source = driver.page_source\n",
    "            soup = BeautifulSoup(page_source, \"html.parser\")\n",
    "            time.sleep(8)\n",
    "            \n",
    "            #Extract product elements\n",
    "            storeName = soup.find(\"div\", class_=\"VlDReK\").text\n",
    "            productName = soup.find(\"div\", class_=\"_44qnta\").find(\"span\").text\n",
    "            productPrice = soup.find(\"div\", class_=\"pqTWkA\").text\n",
    "\n",
    "            try:\n",
    "                    numofRatings = driver.find_element(By.CSS_SELECTOR, \"div[class='_1k47d8']\")\n",
    "                numofRatings = numofRatings.text\n",
    "            except:\n",
    "                None\n",
    "                \n",
    "            totalStars = soup.find(\"div\", class_=\"_1k47d8\").text\n",
    "            \n",
    "            try:\n",
    "                totalSold = soup.find(\"div\", class_=\"e9sAa2\").text\n",
    "            except:\n",
    "                None\n",
    "                \n",
    "            qtySection = soup.find(\"section\", class_=\"flex items-center _6lioXX\")\n",
    "            totalAvail = qtySection.find_all(\"div\")[-1].text\n",
    "            totalFav = soup.select_one(\".flex.items-center._3jkKrB .Ne7dEf\")\n",
    "            fav = totalFav.text\n",
    "\n",
    "            desc_section = soup.find(\"div\", class_='f7AU53')\n",
    "\n",
    "            sentence_list = desc_section.find_all('p')\n",
    "            sentence_list = [sentence.text for sentence in sentence_list]\n",
    "            description = ' '.join(sentence_list)\n",
    "\n",
    "            object[\"Store Name\"] = storeName\n",
    "            object[\"Product Name:\"] = productName\n",
    "            object[\"Product Price:\"] = productPrice\n",
    "            object[\"Total Number of Ratings:\"] = numofRatings\n",
    "            object[\"Average Ratings:\"] = totalStars\n",
    "            object[\"Total Sold:\"] = totalSold\n",
    "            object[\"Total Fav:\"] = fav\n",
    "            object[\"Total Available:\"] = totalAvail\n",
    "            object[\"Description:\"] = description\n",
    "            \n",
    "                         \n",
    "            count = count + 1\n",
    "            print(count)\n",
    "            print(object)\n",
    "            print(\"\")\n",
    "            \n",
    "            object_list.append(object)\n",
    "        \n",
    "            #Go back to the search results\n",
    "            driver.back()\n",
    "        except:\n",
    "            driver.back()\n",
    "        "
   ]
  },
  {
   "cell_type": "code",
   "execution_count": null,
   "id": "27d5c99d-82ee-475f-96d6-466a90451097",
   "metadata": {},
   "outputs": [],
   "source": [
    "# desc_section = soup.find(\"div\", class_='f7AU53')\n",
    "\n",
    "# sentence_list = desc_section.find_all('p')\n",
    "# sentence_list = [edmund.text for edmund in sentence_list]\n",
    "# # display(sentence_list)\n",
    "# str = ' '.join(sentence_list)\n",
    "# print(str)"
   ]
  },
  {
   "cell_type": "code",
   "execution_count": null,
   "id": "1316a80a-4936-44ec-a313-39c845562198",
   "metadata": {},
   "outputs": [],
   "source": [
    "# sentence_list = [sentence_1, sentence_2, sentence_3]\n",
    "# sentence_list = [sentence_1.text, sentence_2.text, sentence_3.text]\n",
    "\n",
    "for sentence in sentence_list:\n",
    "    print(sentence)"
   ]
  },
  {
   "cell_type": "code",
   "execution_count": null,
   "id": "8b04c1e6-1c12-45c1-90a9-1b978e8a0f37",
   "metadata": {},
   "outputs": [],
   "source": [
    "# table2.describe()"
   ]
  },
  {
   "cell_type": "code",
   "execution_count": null,
   "id": "8c5550c1-8925-4f4d-bfd2-62ed37473b48",
   "metadata": {},
   "outputs": [],
   "source": [
    "# table2.to_csv(\"shopee1.csv\")"
   ]
  },
  {
   "cell_type": "code",
   "execution_count": null,
   "id": "ce18df50-0351-4ee4-99d2-4c8f5171b56d",
   "metadata": {},
   "outputs": [],
   "source": [
    "myList = [\"Hi\", \"I\", \"am\", \"bla bla bla\"]"
   ]
  },
  {
   "cell_type": "code",
   "execution_count": null,
   "id": "33aa833d-4db3-48aa-8ba0-3e65448416df",
   "metadata": {},
   "outputs": [],
   "source": [
    "myList"
   ]
  },
  {
   "cell_type": "code",
   "execution_count": null,
   "id": "4fbc6f4c-d5f6-40c6-9703-e6586bbe218c",
   "metadata": {},
   "outputs": [],
   "source": [
    "myStr = '(space)'.join(myList)\n",
    "myStr"
   ]
  },
  {
   "cell_type": "code",
   "execution_count": null,
   "id": "ef5b3719-f4f9-4df5-821b-919ea0d5ea0e",
   "metadata": {},
   "outputs": [],
   "source": []
  }
 ],
 "metadata": {
  "kernelspec": {
   "display_name": "Python 3 (ipykernel)",
   "language": "python",
   "name": "python3"
  },
  "language_info": {
   "codemirror_mode": {
    "name": "ipython",
    "version": 3
   },
   "file_extension": ".py",
   "mimetype": "text/x-python",
   "name": "python",
   "nbconvert_exporter": "python",
   "pygments_lexer": "ipython3",
   "version": "3.11.6"
  }
 },
 "nbformat": 4,
 "nbformat_minor": 5
}
