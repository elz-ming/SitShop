{
 "cells": [
  {
   "cell_type": "code",
   "execution_count": 8,
   "id": "f6eb618a-5619-4b0b-b378-3543b0833ee7",
   "metadata": {},
   "outputs": [],
   "source": [
    "from selenium import webdriver\n",
    "from selenium.webdriver.common.by import By\n",
    "from selenium.webdriver.chrome.service import Service\n",
    "from selenium.webdriver.chrome.options import Options\n",
    "from selenium.webdriver.common.keys import Keys\n",
    "\n",
    "from bs4 import BeautifulSoup\n",
    "\n",
    "import pandas as pd\n",
    "import time\n",
    "\n",
    "import uuid\n",
    "\n",
    "import os"
   ]
  },
  {
   "cell_type": "code",
   "execution_count": 32,
   "id": "efc4572b-42a6-4af0-ab22-8858a7d58fbf",
   "metadata": {},
   "outputs": [],
   "source": [
    "chromedriver_path = os.path.expanduser(\"~/GitLocal/SitShop/sitData/scraper/chromedriver_v117.exe\")\n",
    "s = Service(chromedriver_path)\n",
    "\n",
    "o = Options()\n",
    "o.add_argument(\"--disable-blink-features=AutomationControlled\")\n",
    "o.add_argument(\"--disable-notifications\")\n",
    "o.add_argument(\"--incognito\")\n",
    "o.add_argument('--profile-directory=Default')\n",
    "o.add_argument('--disable-gpu')\n",
    "o.add_argument('--no-sandbox')\n",
    "o.add_argument('start-maximized')\n",
    "# o.add_argument('--headless')\n",
    "\n",
    "driver = webdriver.Chrome(service = s, options = o)"
   ]
  },
  {
   "cell_type": "code",
   "execution_count": 33,
   "id": "3995b0a2-4eb8-4554-8ded-1fac50f5fb59",
   "metadata": {},
   "outputs": [
    {
     "data": {
      "text/plain": [
       "{}"
      ]
     },
     "execution_count": 33,
     "metadata": {},
     "output_type": "execute_result"
    }
   ],
   "source": [
    "driver.execute_cdp_cmd(\"Page.addScriptToEvaluateOnNewDocument\", {\n",
    "  \"source\": \"\"\"\n",
    "    Object.defineProperty(navigator, 'webdriver', {\n",
    "      get: () => undefined\n",
    "    })\n",
    "  \"\"\"\n",
    "})\n",
    "driver.execute_cdp_cmd(\"Network.enable\", {})\n",
    "driver.execute_cdp_cmd('Network.setUserAgentOverride', {\"userAgent\": 'Mozilla/5.0 (Windows NT 10.0; Win64; x64) AppleWebKit/537.36 (KHTML, like Gecko) Chrome/83.0.4103.53 Safari/537.36'})"
   ]
  },
  {
   "cell_type": "code",
   "execution_count": 34,
   "id": "76200940-7249-48fb-8c61-6b374df01d48",
   "metadata": {},
   "outputs": [],
   "source": [
    "driver.get(\"https://shopee.sg/Baseus-D03-Wireless-Headphones-Bluetooth-5.3-Low-Latency-With-mic-3.5mm-jack-For-Notebook-Speaker-Computer-i.131198971.17494411818?sp_atk=b6d64233-ec7c-475e-8d52-c8bbaf20822e&xptdk=b6d64233-ec7c-475e-8d52-c8bbaf20822e\")"
   ]
  },
  {
   "cell_type": "code",
   "execution_count": 19,
   "id": "cadd825a-60cf-46ef-b70a-81f5499129ff",
   "metadata": {},
   "outputs": [
    {
     "ename": "NoSuchElementException",
     "evalue": "Message: no such element: Unable to locate element: {\"method\":\"css selector\",\"selector\":\".shopee-searchbar-input__input\"}\n  (Session info: chrome=117.0.5938.150); For documentation on this error, please visit: https://www.selenium.dev/documentation/webdriver/troubleshooting/errors#no-such-element-exception\nStacktrace:\n\tGetHandleVerifier [0x00007FF605F27D12+55474]\n\t(No symbol) [0x00007FF605E977C2]\n\t(No symbol) [0x00007FF605D4E0EB]\n\t(No symbol) [0x00007FF605D8EBAC]\n\t(No symbol) [0x00007FF605D8ED2C]\n\t(No symbol) [0x00007FF605DC9F77]\n\t(No symbol) [0x00007FF605DAF19F]\n\t(No symbol) [0x00007FF605DC7EF2]\n\t(No symbol) [0x00007FF605DAEF33]\n\t(No symbol) [0x00007FF605D83D41]\n\t(No symbol) [0x00007FF605D84F84]\n\tGetHandleVerifier [0x00007FF60628B762+3609346]\n\tGetHandleVerifier [0x00007FF6062E1A80+3962400]\n\tGetHandleVerifier [0x00007FF6062D9F0F+3930799]\n\tGetHandleVerifier [0x00007FF605FC3CA6+694342]\n\t(No symbol) [0x00007FF605EA2218]\n\t(No symbol) [0x00007FF605E9E484]\n\t(No symbol) [0x00007FF605E9E5B2]\n\t(No symbol) [0x00007FF605E8EE13]\n\tBaseThreadInitThunk [0x00007FFCC8107344+20]\n\tRtlUserThreadStart [0x00007FFCC86026B1+33]\n",
     "output_type": "error",
     "traceback": [
      "\u001b[1;31m---------------------------------------------------------------------------\u001b[0m",
      "\u001b[1;31mNoSuchElementException\u001b[0m                    Traceback (most recent call last)",
      "Cell \u001b[1;32mIn[19], line 1\u001b[0m\n\u001b[1;32m----> 1\u001b[0m search_bar \u001b[38;5;241m=\u001b[39m \u001b[43mdriver\u001b[49m\u001b[38;5;241;43m.\u001b[39;49m\u001b[43mfind_element\u001b[49m\u001b[43m(\u001b[49m\u001b[43mBy\u001b[49m\u001b[38;5;241;43m.\u001b[39;49m\u001b[43mCLASS_NAME\u001b[49m\u001b[43m,\u001b[49m\u001b[43m \u001b[49m\u001b[38;5;124;43m\"\u001b[39;49m\u001b[38;5;124;43mshopee-searchbar-input__input\u001b[39;49m\u001b[38;5;124;43m\"\u001b[39;49m\u001b[43m)\u001b[49m\n\u001b[0;32m      2\u001b[0m search_bar\u001b[38;5;241m.\u001b[39msend_keys(\u001b[38;5;124m\"\u001b[39m\u001b[38;5;124mbottle\u001b[39m\u001b[38;5;124m\"\u001b[39m)\n\u001b[0;32m      3\u001b[0m search_bar\u001b[38;5;241m.\u001b[39msend_keys(Keys\u001b[38;5;241m.\u001b[39mRETURN)\n",
      "File \u001b[1;32m~\\GitLocal\\SitShop\\sitEnv\\Lib\\site-packages\\selenium\\webdriver\\remote\\webdriver.py:738\u001b[0m, in \u001b[0;36mWebDriver.find_element\u001b[1;34m(self, by, value)\u001b[0m\n\u001b[0;32m    735\u001b[0m     by \u001b[38;5;241m=\u001b[39m By\u001b[38;5;241m.\u001b[39mCSS_SELECTOR\n\u001b[0;32m    736\u001b[0m     value \u001b[38;5;241m=\u001b[39m \u001b[38;5;124mf\u001b[39m\u001b[38;5;124m'\u001b[39m\u001b[38;5;124m[name=\u001b[39m\u001b[38;5;124m\"\u001b[39m\u001b[38;5;132;01m{\u001b[39;00mvalue\u001b[38;5;132;01m}\u001b[39;00m\u001b[38;5;124m\"\u001b[39m\u001b[38;5;124m]\u001b[39m\u001b[38;5;124m'\u001b[39m\n\u001b[1;32m--> 738\u001b[0m \u001b[38;5;28;01mreturn\u001b[39;00m \u001b[38;5;28;43mself\u001b[39;49m\u001b[38;5;241;43m.\u001b[39;49m\u001b[43mexecute\u001b[49m\u001b[43m(\u001b[49m\u001b[43mCommand\u001b[49m\u001b[38;5;241;43m.\u001b[39;49m\u001b[43mFIND_ELEMENT\u001b[49m\u001b[43m,\u001b[49m\u001b[43m \u001b[49m\u001b[43m{\u001b[49m\u001b[38;5;124;43m\"\u001b[39;49m\u001b[38;5;124;43musing\u001b[39;49m\u001b[38;5;124;43m\"\u001b[39;49m\u001b[43m:\u001b[49m\u001b[43m \u001b[49m\u001b[43mby\u001b[49m\u001b[43m,\u001b[49m\u001b[43m \u001b[49m\u001b[38;5;124;43m\"\u001b[39;49m\u001b[38;5;124;43mvalue\u001b[39;49m\u001b[38;5;124;43m\"\u001b[39;49m\u001b[43m:\u001b[49m\u001b[43m \u001b[49m\u001b[43mvalue\u001b[49m\u001b[43m}\u001b[49m\u001b[43m)\u001b[49m[\u001b[38;5;124m\"\u001b[39m\u001b[38;5;124mvalue\u001b[39m\u001b[38;5;124m\"\u001b[39m]\n",
      "File \u001b[1;32m~\\GitLocal\\SitShop\\sitEnv\\Lib\\site-packages\\selenium\\webdriver\\remote\\webdriver.py:344\u001b[0m, in \u001b[0;36mWebDriver.execute\u001b[1;34m(self, driver_command, params)\u001b[0m\n\u001b[0;32m    342\u001b[0m response \u001b[38;5;241m=\u001b[39m \u001b[38;5;28mself\u001b[39m\u001b[38;5;241m.\u001b[39mcommand_executor\u001b[38;5;241m.\u001b[39mexecute(driver_command, params)\n\u001b[0;32m    343\u001b[0m \u001b[38;5;28;01mif\u001b[39;00m response:\n\u001b[1;32m--> 344\u001b[0m     \u001b[38;5;28;43mself\u001b[39;49m\u001b[38;5;241;43m.\u001b[39;49m\u001b[43merror_handler\u001b[49m\u001b[38;5;241;43m.\u001b[39;49m\u001b[43mcheck_response\u001b[49m\u001b[43m(\u001b[49m\u001b[43mresponse\u001b[49m\u001b[43m)\u001b[49m\n\u001b[0;32m    345\u001b[0m     response[\u001b[38;5;124m\"\u001b[39m\u001b[38;5;124mvalue\u001b[39m\u001b[38;5;124m\"\u001b[39m] \u001b[38;5;241m=\u001b[39m \u001b[38;5;28mself\u001b[39m\u001b[38;5;241m.\u001b[39m_unwrap_value(response\u001b[38;5;241m.\u001b[39mget(\u001b[38;5;124m\"\u001b[39m\u001b[38;5;124mvalue\u001b[39m\u001b[38;5;124m\"\u001b[39m, \u001b[38;5;28;01mNone\u001b[39;00m))\n\u001b[0;32m    346\u001b[0m     \u001b[38;5;28;01mreturn\u001b[39;00m response\n",
      "File \u001b[1;32m~\\GitLocal\\SitShop\\sitEnv\\Lib\\site-packages\\selenium\\webdriver\\remote\\errorhandler.py:229\u001b[0m, in \u001b[0;36mErrorHandler.check_response\u001b[1;34m(self, response)\u001b[0m\n\u001b[0;32m    227\u001b[0m         alert_text \u001b[38;5;241m=\u001b[39m value[\u001b[38;5;124m\"\u001b[39m\u001b[38;5;124malert\u001b[39m\u001b[38;5;124m\"\u001b[39m]\u001b[38;5;241m.\u001b[39mget(\u001b[38;5;124m\"\u001b[39m\u001b[38;5;124mtext\u001b[39m\u001b[38;5;124m\"\u001b[39m)\n\u001b[0;32m    228\u001b[0m     \u001b[38;5;28;01mraise\u001b[39;00m exception_class(message, screen, stacktrace, alert_text)  \u001b[38;5;66;03m# type: ignore[call-arg]  # mypy is not smart enough here\u001b[39;00m\n\u001b[1;32m--> 229\u001b[0m \u001b[38;5;28;01mraise\u001b[39;00m exception_class(message, screen, stacktrace)\n",
      "\u001b[1;31mNoSuchElementException\u001b[0m: Message: no such element: Unable to locate element: {\"method\":\"css selector\",\"selector\":\".shopee-searchbar-input__input\"}\n  (Session info: chrome=117.0.5938.150); For documentation on this error, please visit: https://www.selenium.dev/documentation/webdriver/troubleshooting/errors#no-such-element-exception\nStacktrace:\n\tGetHandleVerifier [0x00007FF605F27D12+55474]\n\t(No symbol) [0x00007FF605E977C2]\n\t(No symbol) [0x00007FF605D4E0EB]\n\t(No symbol) [0x00007FF605D8EBAC]\n\t(No symbol) [0x00007FF605D8ED2C]\n\t(No symbol) [0x00007FF605DC9F77]\n\t(No symbol) [0x00007FF605DAF19F]\n\t(No symbol) [0x00007FF605DC7EF2]\n\t(No symbol) [0x00007FF605DAEF33]\n\t(No symbol) [0x00007FF605D83D41]\n\t(No symbol) [0x00007FF605D84F84]\n\tGetHandleVerifier [0x00007FF60628B762+3609346]\n\tGetHandleVerifier [0x00007FF6062E1A80+3962400]\n\tGetHandleVerifier [0x00007FF6062D9F0F+3930799]\n\tGetHandleVerifier [0x00007FF605FC3CA6+694342]\n\t(No symbol) [0x00007FF605EA2218]\n\t(No symbol) [0x00007FF605E9E484]\n\t(No symbol) [0x00007FF605E9E5B2]\n\t(No symbol) [0x00007FF605E8EE13]\n\tBaseThreadInitThunk [0x00007FFCC8107344+20]\n\tRtlUserThreadStart [0x00007FFCC86026B1+33]\n"
     ]
    }
   ],
   "source": [
    "search_bar = driver.find_element(By.CLASS_NAME, \"shopee-searchbar-input__input\")\n",
    "search_bar.send_keys(\"bottle\")\n",
    "search_bar.send_keys(Keys.RETURN)"
   ]
  },
  {
   "cell_type": "code",
   "execution_count": 35,
   "id": "8feaf67b-4569-46e4-b77c-565219aa15e0",
   "metadata": {},
   "outputs": [],
   "source": [
    "time.sleep(2)\n",
    "username_bar = driver.find_element(By.NAME, \"loginKey\")\n",
    "username_bar.send_keys(\"linjericho\")\n",
    "\n",
    "time.sleep(2)\n",
    "password_bar = driver.find_element(By.NAME, \"password\")\n",
    "password_bar.send_keys(\"Jericho1\")\n",
    "\n",
    "time.sleep(2)\n",
    "password_bar.send_keys(Keys.RETURN)"
   ]
  },
  {
   "cell_type": "code",
   "execution_count": 26,
   "id": "afdc242e-dbdc-49f7-b416-a3d6f1ad6bf3",
   "metadata": {},
   "outputs": [],
   "source": [
    "product_list = driver.find_elements(By.CLASS_NAME, \"shopee-search-item-result__item\")\n",
    "\n",
    "for product in product_list:\n",
    "    product.click()\n",
    "    break"
   ]
  },
  {
   "cell_type": "code",
   "execution_count": 83,
   "id": "6170f7ad-b587-4a44-9d77-0b51b77581e0",
   "metadata": {},
   "outputs": [],
   "source": [
    "page_source = driver.page_source\n",
    "soup = BeautifulSoup(page_source)"
   ]
  },
  {
   "cell_type": "code",
   "execution_count": 84,
   "id": "b759d057-ed15-4f97-bd49-4274d1ca19dd",
   "metadata": {
    "scrolled": true
   },
   "outputs": [
    {
     "data": {
      "text/plain": [
       "{'name': 'The Corner',\n",
       " 'Ratings': '11.6k',\n",
       " 'response rate': '92%',\n",
       " 'joined': '24 months ago',\n",
       " 'products': '279',\n",
       " 'response time': 'within hours',\n",
       " 'follower': '14k'}"
      ]
     },
     "metadata": {},
     "output_type": "display_data"
    }
   ],
   "source": [
    "merchant = {}\n",
    "\n",
    "merchant[\"name\"] = soup.find(\"div\", class_=\"VlDReK\").text\n",
    "\n",
    "merchant_info = soup.find(\"div\", class_=\"Po6c6I\")\n",
    "merchant_info = merchant_info.find_all(class_=\"R7Q8ES\")\n",
    "\n",
    "for info in merchant_info:\n",
    "    label = info.find(\"label\").text\n",
    "    span  = info.find(\"span\").text\n",
    "    merchant[label] = span\n",
    "\n",
    "display(merchant)"
   ]
  },
  {
   "cell_type": "code",
   "execution_count": 105,
   "id": "33902cf0-edb2-435f-8069-d8414eaa7b7a",
   "metadata": {},
   "outputs": [
    {
     "data": {
      "text/plain": [
       "{'product_id': 'cb3975d2-46f6-4d30-a1ab-2f8aab3df188',\n",
       " 'name': '1300ml Water Bottle BPA Free Leak-proof Removable Straw Free Sticker Dual Spout : Direct Spout or With Straw',\n",
       " 'preferred': 1,\n",
       " 'mall': 0,\n",
       " 'avg_rating': '4.8',\n",
       " 'total_rating': '71',\n",
       " 'total_sold': '285',\n",
       " 'price': '$7.90',\n",
       " 'fav_count': 'Favorite (208)',\n",
       " 'quantity_available': '127 pieces available',\n",
       " 'description': 'Material: PC (BPA free) \\n Capacity: 1300ml \\n Safe Temperature: -10 to 90℃ \\n Size: 17.9cm in height, 11.5 in width \\n COME WITH FREE STICKER & BELT 🇸🇬🇸🇬🇸🇬 Singapore local seller, ready stock in Singapore. 🚚🚚🚚 Super fast delivery. Your parcel will be sent out within 1 working day, and arrive at your doorstep within 2-3 working days. 98% of our customers received the parcels within 2 working days since order placed. 📦📦📦 Hassle free when purchase fragile item like glass, ceramic products. Your parcels are well-protected with water-resistant packaging to minimize risk of damage during delivery. And replacement items will arrive to you within 48 hours in case damage occurs during delivery.  👍👍👍 Superior Customer Service: In case of any product issues, fret not, we have your back with our dedicated customer service to assist you round the clock, 7 days a week.'}"
      ]
     },
     "metadata": {},
     "output_type": "display_data"
    }
   ],
   "source": [
    "product = {}\n",
    "\n",
    "product_id = str(uuid.uuid4())\n",
    "\n",
    "product[\"product_id\"] = product_id\n",
    "\n",
    "product_info = soup.find(\"section\", class_=\"RBf1cu\")\n",
    "\n",
    "# Name, Preferred and Mall\n",
    "name_section = product_info.find(\"div\", class_=\"_44qnta\")\n",
    "product[\"name\"] = name_section.find(\"span\").text\n",
    "\n",
    "try:\n",
    "    name_section.find(\"svg\")\n",
    "    product[\"preferred\"] = 0\n",
    "    product[\"mall\"]      = 1\n",
    "except:\n",
    "    product[\"preferred\"] = 0\n",
    "    product[\"mall\"]      = 0\n",
    "\n",
    "try:\n",
    "    name_section.find(\"div\")\n",
    "    product[\"preferred\"] = 1\n",
    "    product[\"mall\"]      = 0\n",
    "except:\n",
    "    product[\"preferred\"] = 0\n",
    "    product[\"mall\"]      = 0\n",
    "\n",
    "# Ratings\n",
    "rating_section = product_info.find(\"div\", class_=\"X5u-5c\")\n",
    "product[\"avg_rating\"]   = rating_section.find_all(\"div\", class_=\"_1k47d8\")[0].text\n",
    "product[\"total_rating\"] = rating_section.find_all(\"div\", class_=\"_1k47d8\")[-1].text\n",
    "product[\"total_sold\"]   = rating_section.find(\"div\", class_=\"e9sAa2\").text\n",
    "\n",
    "# Other info\n",
    "product[\"price\"] = product_info.find(\"div\", class_=\"pqTWkA\").text\n",
    "product[\"fav_count\"] = soup.select_one(\".flex.items-center._3jkKrB .Ne7dEf\").text\n",
    "product[\"quantity_available\"] = product_info.find(\"section\", class_=\"flex items-center _6lioXX\").find_all(\"div\")[-1].text\n",
    "\n",
    "# Description\n",
    "desc_section = soup.find(\"div\", class_='f7AU53')\n",
    "sentence_list = desc_section.find_all('p')\n",
    "sentence_list = [sentence.text for sentence in sentence_list]\n",
    "product['description'] = ' '.join(sentence_list)\n",
    "\n",
    "display(product)"
   ]
  },
  {
   "cell_type": "code",
   "execution_count": 112,
   "id": "a9b01bea-3f4e-4a49-82e8-ff89ab0520c0",
   "metadata": {},
   "outputs": [
    {
     "data": {
      "text/plain": [
       "{'comment_id': '89728794-5b86-493f-93cd-4b15e6560403',\n",
       " 'username': 'p*****g',\n",
       " 'date': '2023-06-20 21:32',\n",
       " 'rating': 3,\n",
       " 'comment': 'super well packaged!! large capacity. hope it can last!! :D\\n\\nedit: bottle leaks for me :( and the straw seems to easily detach..',\n",
       " 'product_id': 'cb3975d2-46f6-4d30-a1ab-2f8aab3df188'}"
      ]
     },
     "metadata": {},
     "output_type": "display_data"
    },
    {
     "data": {
      "text/plain": [
       "{'comment_id': '742fd97d-1f4a-4a05-b709-46961f0d47b5',\n",
       " 'username': 'anyawk',\n",
       " 'date': '2022-11-25 23:20',\n",
       " 'rating': 3,\n",
       " 'comment': 'Appearance: cute\\nPerformance: works\\nQuality: kinda dirty when it was delivered\\nSome instructions on how to assemble and use the straw would be nice… took a while to figure it out.',\n",
       " 'product_id': 'cb3975d2-46f6-4d30-a1ab-2f8aab3df188'}"
      ]
     },
     "metadata": {},
     "output_type": "display_data"
    },
    {
     "data": {
      "text/plain": [
       "{'comment_id': '3f6c267b-3f88-4504-a09d-c39e1bf78c8a',\n",
       " 'username': 'j*****6',\n",
       " 'date': '2023-05-31 01:19',\n",
       " 'rating': 3,\n",
       " 'comment': None,\n",
       " 'product_id': 'cb3975d2-46f6-4d30-a1ab-2f8aab3df188'}"
      ]
     },
     "metadata": {},
     "output_type": "display_data"
    }
   ],
   "source": [
    "review_list = []\n",
    "\n",
    "review_section = driver.find_elements(By.CLASS_NAME, \"shopee-product-rating\")\n",
    "\n",
    "for review in review_section:\n",
    "    comment =  {}\n",
    "    comment[\"comment_id\"]  = str(uuid.uuid4())\n",
    "    comment[\"username\"]    = review.find_element(By.CSS_SELECTOR, \".shopee-product-rating__author-name\").text\n",
    "    comment[\"date\"]        = review.find_element(By.CSS_SELECTOR, \"div[class='shopee-product-rating__time']\").text.split(\" | \")[0]\n",
    "    comment[\"rating\"]      = len(review.find_elements(By.CSS_SELECTOR, \".icon-rating-solid--active\"))\n",
    "    \n",
    "    try:\n",
    "        comment[\"comment\"] = review.find_element(By.CSS_SELECTOR, \"div[class='Rk6V+3']\").text\n",
    "    except:\n",
    "        comment[\"comment\"] = None\n",
    "    \n",
    "    comment[\"product_id\"]  = product_id"
   ]
  },
  {
   "cell_type": "code",
   "execution_count": 118,
   "id": "cfde5e70-4844-43e0-ba18-4e2e184c0847",
   "metadata": {},
   "outputs": [],
   "source": [
    "review_next_page_button = driver.find_element(By.CSS_SELECTOR, \".shopee-icon-button--right\")\n",
    "review_next_page_button.click()"
   ]
  },
  {
   "cell_type": "code",
   "execution_count": 120,
   "id": "5dcc2607-bfb6-4f25-b939-fcb7788c0b0a",
   "metadata": {},
   "outputs": [],
   "source": [
    "table = pd.DataFrame()"
   ]
  },
  {
   "cell_type": "code",
   "execution_count": 123,
   "id": "97467225-3147-4951-b375-550267c5617a",
   "metadata": {},
   "outputs": [],
   "source": [
    "table.to_csv(\"../asset/some.csv\")"
   ]
  },
  {
   "cell_type": "code",
   "execution_count": null,
   "id": "5e8cf7b0-8aa8-46a0-b43d-d8079bb4ec4f",
   "metadata": {},
   "outputs": [],
   "source": []
  }
 ],
 "metadata": {
  "kernelspec": {
   "display_name": "Python 3 (ipykernel)",
   "language": "python",
   "name": "python3"
  },
  "language_info": {
   "codemirror_mode": {
    "name": "ipython",
    "version": 3
   },
   "file_extension": ".py",
   "mimetype": "text/x-python",
   "name": "python",
   "nbconvert_exporter": "python",
   "pygments_lexer": "ipython3",
   "version": "3.11.6"
  }
 },
 "nbformat": 4,
 "nbformat_minor": 5
}
