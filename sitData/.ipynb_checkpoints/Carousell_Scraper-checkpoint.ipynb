{
 "cells": [
  {
   "cell_type": "code",
   "execution_count": 5,
   "id": "61b63664-6fec-47a8-a481-ae5b974f0f35",
   "metadata": {},
   "outputs": [],
   "source": [
    "from selenium import webdriver\n",
    "from selenium.webdriver.chrome.service import Service\n",
    "from selenium.webdriver.common.by import By\n",
    "\n",
    "from bs4 import BeautifulSoup\n",
    "import requests"
   ]
  },
  {
   "cell_type": "code",
   "execution_count": 9,
   "id": "b8b0a953-6dd8-4d8f-a944-28807641a354",
   "metadata": {},
   "outputs": [],
   "source": [
    "s = Service(\"C:/Users/edmund/GitLocal/SitShop/PythonData/chromedriver.exe\")\n",
    "driver = webdriver.Chrome(service = s)"
   ]
  },
  {
   "cell_type": "code",
   "execution_count": 10,
   "id": "731f6739-99bc-4c53-9799-542ad546563a",
   "metadata": {},
   "outputs": [],
   "source": [
    "driver.get(\"https://www.carousell.sg/u/my.shopping.paradize/reviews/\")"
   ]
  },
  {
   "cell_type": "code",
   "execution_count": 15,
   "id": "76129e11-2d92-4426-9029-080be2ed8e0e",
   "metadata": {},
   "outputs": [],
   "source": [
    "load_more_button = driver.find_element(By.XPATH, \"/html/body/div[1]/div/main/div[1]/div[1]/div[3]/div[2]/div/button\")\n",
    "load_more_button.click()"
   ]
  },
  {
   "cell_type": "code",
   "execution_count": null,
   "id": "d376e4cc-9159-4fa6-8a49-37514e40a4de",
   "metadata": {},
   "outputs": [],
   "source": [
    "customer_cards = driver.find_element(By.CSS_SELECTOR, \"li[class='D_WK M_yo']\""
   ]
  },
  {
   "cell_type": "code",
   "execution_count": null,
   "id": "f9ca083f-c72d-4d5b-8370-e2d8b5434147",
   "metadata": {},
   "outputs": [],
   "source": [
    "while True:\n",
    "    "
   ]
  },
  {
   "cell_type": "code",
   "execution_count": null,
   "id": "1705a8f6-8f90-4452-a528-b0890e3552e1",
   "metadata": {},
   "outputs": [],
   "source": []
  }
 ],
 "metadata": {
  "kernelspec": {
   "display_name": "SITP",
   "language": "python",
   "name": "sitp"
  },
  "language_info": {
   "codemirror_mode": {
    "name": "ipython",
    "version": 3
   },
   "file_extension": ".py",
   "mimetype": "text/x-python",
   "name": "python",
   "nbconvert_exporter": "python",
   "pygments_lexer": "ipython3",
   "version": "3.11.5"
  }
 },
 "nbformat": 4,
 "nbformat_minor": 5
}
